{
 "cells": [
  {
   "cell_type": "markdown",
   "metadata": {},
   "source": [
    "# **Tutorial: the simple harmonic oscillator**"
   ]
  },
  {
   "cell_type": "markdown",
   "metadata": {},
   "source": [
    "As an easy walkthrough, let us work through the Moyal equation for the (quantum) simple harmonic oscillator (SHO). As we are familiar with in the Hilbert space formalism, the SHO can be described by the following Liouville-von Neumann equation:\n",
    "$$\n",
    "\\frac{\\mathrm{d}\\rho}{\\mathrm{d}t} = -i\\left(\\hat{a}^\\dagger \\hat{a}\\rho-\\rho\\hat{a}^\\dagger \\hat{a}\\right)\\tag{1}\n",
    "$$\n",
    "where $\\hat{a}=\\left(\\hat{x}+i\\hat{p}\\right)/\\sqrt{2}$ is the annihilation operator. The Moyal equation can be obtained by applying the Wigner transformation to Eq. (1). We obtain\n",
    "$$\n",
    "{\\partial_t W} = -i\\left(\\hat{a}^\\dagger \\star \\hat{a}\\star W-W\\star\\hat{a}^\\dagger\\star \\hat{a}\\right)\\tag{2}\n",
    "$$\n",
    "where $W$ is the system's Wigner function. Here the Moyal star-product is defined as:\n",
    "$$\n",
    "A(x,p)\\star B(x,p) = A\\left(x+\\frac{i}{2}\\partial_{p'}, p-\\frac{i}{2}\\partial_{x'}\\right)B(x',p')\\Big|_{x'=x,p'=p} = B\\left(x-\\frac{i}{2}\\partial_{p'}, p+\\frac{i}{2}\\partial_{x'}\\right)A(x',p')\\Big|_{x'=x,p'=p} \\tag{3}\n",
    "$$\n",
    "It is essentially ordinary multiplication between two scalar functions, which behaves like matrix multiplication. The change $x\\rightarrow x\\pm i\\partial_x/2$ and likewise for $p is called the \"Bopp shift\".\n",
    "\n",
    "This should be enough explanation---more information is available in our references. Let us code. \n",
    "\n",
    "---\n",
    "\n",
    "For the interested readers wanting to try this for themselves, feel free to install the module via `pip`:\n",
    "\n",
    "```\n",
    "pip install git+https://github.com/hendry24/moyalstar\n",
    "```"
   ]
  },
  {
   "cell_type": "code",
   "execution_count": 1,
   "metadata": {},
   "outputs": [],
   "source": [
    "import moyalstar as ms\n",
    "import sympy as sm\n",
    "import time\n",
    "\n",
    "ms.MP_CONFIG['enable']=False\n",
    "\n",
    "a, ad = ms.annihilateOp(), ms.createOp()\n",
    "aa, aad = ms.alpha(), ms.alphaD()\n",
    "kappa_1, gamma_1, gamma_2 = sm.symbols(\"kappa_1, gamma_1, gamma_2\")\n",
    "q, p = ms.q(), ms.p()\n",
    "W = ms.W()"
   ]
  },
  {
   "cell_type": "code",
   "execution_count": 2,
   "metadata": {},
   "outputs": [
    {
     "data": {
      "text/latex": [
       "$\\displaystyle \\frac{d}{d t_{}} \\rho_{} = - i \\left[\\hat{a}^{\\dagger}_{} \\hat{a}_{},\\rho_{}\\right] + {{\\gamma_{1}}\\mathcal{D}\\left({\\hat{a}_{}}\\right)\\left[\\rho\\right]} + {{\\gamma_{2}}\\mathcal{D}\\left({\\hat{a}_{}^{2}}\\right)\\left[\\rho\\right]} + {{\\kappa_{1}}\\mathcal{D}\\left({\\hat{a}^{\\dagger}_{}}\\right)\\left[\\rho\\right]}$"
      ],
      "text/plain": [
       "\\frac{d}{d t_{}} \\rho_{} = - i \\left[\\hat{a}^{\\dagger}_{} \\hat{a}_{},\\rho_{}\\right] + {{\\gamma_{1}}\\mathcal{D}\\left({\\hat{a}_{}}\\right)\\left[\\rho\\right]} + {{\\gamma_{2}}\\mathcal{D}\\left({\\hat{a}_{}^{2}}\\right)\\left[\\rho\\right]} + {{\\kappa_{1}}\\mathcal{D}\\left({\\hat{a}^{\\dagger}_{}}\\right)\\left[\\rho\\right]}"
      ]
     },
     "execution_count": 2,
     "metadata": {},
     "output_type": "execute_result"
    }
   ],
   "source": [
    "lme = ms.LindbladMasterEquation(H = ad*a, \n",
    "                                dissipators=[[kappa_1, ad], [gamma_1, a], [gamma_2, a**2]])\n",
    "# lme = ms.LindbladMasterEquation(H = ad*a)\n",
    "lme"
   ]
  },
  {
   "cell_type": "code",
   "execution_count": 3,
   "metadata": {},
   "outputs": [
    {
     "data": {
      "text/latex": [
       "$\\displaystyle \\frac{\\partial}{\\partial t_{}} W = \\gamma_{1} W + 2 \\gamma_{2} p_{}^{2} W + 2 \\gamma_{2} q_{}^{2} W - \\kappa_{1} W$"
      ],
      "text/plain": [
       "Eq(Derivative(WignerFunction(t_{}, q_{}, p_{}), t_{}), gamma_1*WignerFunction() + 2*gamma_2*p_{}**2*WignerFunction() + 2*gamma_2*q_{}**2*WignerFunction() - kappa_1*WignerFunction())"
      ]
     },
     "execution_count": 3,
     "metadata": {},
     "output_type": "execute_result"
    }
   ],
   "source": [
    "lme.wigner_transform"
   ]
  },
  {
   "cell_type": "code",
   "execution_count": 13,
   "metadata": {},
   "outputs": [
    {
     "data": {
      "text/latex": [
       "$\\displaystyle - \\kappa_{1} W$"
      ],
      "text/plain": [
       "-kappa_1*WignerFunction()"
      ]
     },
     "execution_count": 13,
     "metadata": {},
     "output_type": "execute_result"
    }
   ],
   "source": [
    "ms.WignerTransform(lme.rhs.args[3])"
   ]
  },
  {
   "cell_type": "markdown",
   "metadata": {},
   "source": [
    "### **Setting symbols**\n",
    "\n",
    "#### Variables beginning with double letters are deliberately made noncommutative."
   ]
  },
  {
   "cell_type": "code",
   "execution_count": 6,
   "metadata": {},
   "outputs": [
    {
     "ename": "AttributeError",
     "evalue": "module 'moyalstar' has no attribute 'get_objects'",
     "output_type": "error",
     "traceback": [
      "\u001b[0;31m---------------------------------------------------------------------------\u001b[0m",
      "\u001b[0;31mAttributeError\u001b[0m                            Traceback (most recent call last)",
      "Cell \u001b[0;32mIn[6], line 1\u001b[0m\n\u001b[0;32m----> 1\u001b[0m I, q, p, W \u001b[38;5;241m=\u001b[39m \u001b[43mms\u001b[49m\u001b[38;5;241;43m.\u001b[39;49m\u001b[43mget_objects\u001b[49m()\n\u001b[1;32m      3\u001b[0m sqrt2 \u001b[38;5;241m=\u001b[39msm\u001b[38;5;241m.\u001b[39msqrt(\u001b[38;5;241m2\u001b[39m)\n\u001b[1;32m      4\u001b[0m t \u001b[38;5;241m=\u001b[39m sm\u001b[38;5;241m.\u001b[39msymbols(\u001b[38;5;124m\"\u001b[39m\u001b[38;5;124mt\u001b[39m\u001b[38;5;124m\"\u001b[39m, real\u001b[38;5;241m=\u001b[39m\u001b[38;5;28;01mTrue\u001b[39;00m)\n",
      "\u001b[0;31mAttributeError\u001b[0m: module 'moyalstar' has no attribute 'get_objects'"
     ]
    }
   ],
   "source": [
    "I, q, p, W = ms.get_objects()\n",
    "\n",
    "sqrt2 =sm.sqrt(2)\n",
    "t = sm.symbols(\"t\", real=True)\n",
    "\n",
    "a = (q + I*p)/sqrt2\n",
    "adag = sm.conjugate(a)\n",
    "a"
   ]
  },
  {
   "cell_type": "markdown",
   "metadata": {},
   "source": [
    "### **Trying out the Bopp shift**"
   ]
  },
  {
   "cell_type": "code",
   "execution_count": null,
   "metadata": {},
   "outputs": [
    {
     "ename": "AttributeError",
     "evalue": "module 'moyalstar' has no attribute 'bopp'",
     "output_type": "error",
     "traceback": [
      "\u001b[0;31m---------------------------------------------------------------------------\u001b[0m",
      "\u001b[0;31mAttributeError\u001b[0m                            Traceback (most recent call last)",
      "Cell \u001b[0;32mIn[5], line 1\u001b[0m\n\u001b[0;32m----> 1\u001b[0m \u001b[43mms\u001b[49m\u001b[38;5;241;43m.\u001b[39;49m\u001b[43mbopp\u001b[49m(q)\n",
      "\u001b[0;31mAttributeError\u001b[0m: module 'moyalstar' has no attribute 'bopp'"
     ]
    }
   ],
   "source": [
    "ms.bopp(q)"
   ]
  },
  {
   "cell_type": "code",
   "execution_count": null,
   "metadata": {},
   "outputs": [
    {
     "data": {
      "text/latex": [
       "$\\displaystyle q - \\frac{i \\partial_{p'}}{2}$"
      ],
      "text/plain": [
       "q - I*\\partial_{p'}/2"
      ]
     },
     "execution_count": 6,
     "metadata": {},
     "output_type": "execute_result"
    }
   ],
   "source": [
    "ms.bopp(q, left=True)"
   ]
  },
  {
   "cell_type": "code",
   "execution_count": null,
   "metadata": {},
   "outputs": [
    {
     "data": {
      "text/latex": [
       "$\\displaystyle \\frac{\\sqrt{2} i p}{2} + \\frac{\\sqrt{2} q}{2} + \\frac{\\sqrt{2} i \\partial_{p'}}{4} + \\frac{\\sqrt{2} \\partial_{q'}}{4}$"
      ],
      "text/plain": [
       "sqrt(2)*I*p/2 + sqrt(2)*q/2 + sqrt(2)*I*\\partial_{p'}/4 + sqrt(2)*\\partial_{q'}/4"
      ]
     },
     "execution_count": 7,
     "metadata": {},
     "output_type": "execute_result"
    }
   ],
   "source": [
    "ms.bopp(a)"
   ]
  },
  {
   "cell_type": "markdown",
   "metadata": {},
   "source": [
    "### **Calculating the Moyal star-product**"
   ]
  },
  {
   "cell_type": "code",
   "execution_count": null,
   "metadata": {},
   "outputs": [
    {
     "data": {
      "text/latex": [
       "$\\displaystyle \\frac{p^{2} W{\\left(q,p \\right)}}{2} - \\frac{i p \\frac{\\partial}{\\partial q} W{\\left(q,p \\right)}}{2} + \\frac{q^{2} W{\\left(q,p \\right)}}{2} + \\frac{i q \\frac{\\partial}{\\partial p} W{\\left(q,p \\right)}}{2} - \\frac{W{\\left(q,p \\right)}}{2} - \\frac{\\frac{\\partial^{2}}{\\partial p^{2}} W{\\left(q,p \\right)}}{8} - \\frac{\\frac{\\partial^{2}}{\\partial q^{2}} W{\\left(q,p \\right)}}{8}$"
      ],
      "text/plain": [
       "p**2*W(q, p)/2 - I*p*Derivative(W(q, p), q)/2 + q**2*W(q, p)/2 + I*q*Derivative(W(q, p), p)/2 - W(q, p)/2 - Derivative(W(q, p), (p, 2))/8 - Derivative(W(q, p), (q, 2))/8"
      ]
     },
     "execution_count": 8,
     "metadata": {},
     "output_type": "execute_result"
    }
   ],
   "source": [
    "adag_star_a = ms.star(adag, a)\n",
    "adag_star_a_star_W = ms.star(adag_star_a, W)\n",
    "adag_star_a_star_W"
   ]
  },
  {
   "cell_type": "code",
   "execution_count": null,
   "metadata": {},
   "outputs": [
    {
     "data": {
      "text/latex": [
       "$\\displaystyle \\frac{p^{2} W{\\left(q,p \\right)}}{2} + \\frac{i p \\frac{\\partial}{\\partial q} W{\\left(q,p \\right)}}{2} + \\frac{q^{2} W{\\left(q,p \\right)}}{2} - \\frac{i q \\frac{\\partial}{\\partial p} W{\\left(q,p \\right)}}{2} - \\frac{W{\\left(q,p \\right)}}{2} - \\frac{\\frac{\\partial^{2}}{\\partial p^{2}} W{\\left(q,p \\right)}}{8} - \\frac{\\frac{\\partial^{2}}{\\partial q^{2}} W{\\left(q,p \\right)}}{8}$"
      ],
      "text/plain": [
       "p**2*W(q, p)/2 + I*p*Derivative(W(q, p), q)/2 + q**2*W(q, p)/2 - I*q*Derivative(W(q, p), p)/2 - W(q, p)/2 - Derivative(W(q, p), (p, 2))/8 - Derivative(W(q, p), (q, 2))/8"
      ]
     },
     "execution_count": 9,
     "metadata": {},
     "output_type": "execute_result"
    }
   ],
   "source": [
    "W_star_adag_star_a = ms.star(W, adag_star_a)\n",
    "W_star_adag_star_a"
   ]
  },
  {
   "cell_type": "markdown",
   "metadata": {},
   "source": [
    "### **The Moyal equation**"
   ]
  },
  {
   "cell_type": "code",
   "execution_count": null,
   "metadata": {},
   "outputs": [
    {
     "data": {
      "text/latex": [
       "$\\displaystyle \\frac{\\partial}{\\partial t} W{\\left(q,p \\right)} = - p \\frac{\\partial}{\\partial q} W{\\left(q,p \\right)} + q \\frac{\\partial}{\\partial p} W{\\left(q,p \\right)}$"
      ],
      "text/plain": [
       "Eq(Derivative(W(q, p), t), -p*Derivative(W(q, p), q) + q*Derivative(W(q, p), p))"
      ]
     },
     "execution_count": 10,
     "metadata": {},
     "output_type": "execute_result"
    }
   ],
   "source": [
    "sm.Equality(sm.Derivative(W, t),\n",
    "            sm.expand(-I * (adag_star_a_star_W - W_star_adag_star_a)))"
   ]
  },
  {
   "cell_type": "markdown",
   "metadata": {},
   "source": [
    "and we are done!\n",
    "\n",
    "---\n",
    "\n",
    "### **References**\n",
    "\n",
    "    - T. Curtright, D. Fairlie, and C. Zachos, A Concise Treatise On Quantum Mechanics In Phase Space (World Scientific Publishing Company, 2013)\n",
    "    \n",
    "    - https://physics.stackexchange.com/questions/578522/why-does-the-star-product-satisfy-the-bopp-shift-relations-fx-p-star-gx-p\n"
   ]
  }
 ],
 "metadata": {
  "kernelspec": {
   "display_name": "pyvenv",
   "language": "python",
   "name": "python3"
  },
  "language_info": {
   "codemirror_mode": {
    "name": "ipython",
    "version": 3
   },
   "file_extension": ".py",
   "mimetype": "text/x-python",
   "name": "python",
   "nbconvert_exporter": "python",
   "pygments_lexer": "ipython3",
   "version": "3.12.3"
  }
 },
 "nbformat": 4,
 "nbformat_minor": 2
}

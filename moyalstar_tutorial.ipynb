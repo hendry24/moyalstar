{
 "cells": [
  {
   "cell_type": "markdown",
   "metadata": {},
   "source": [
    "# **Tutorial: the simple harmonic oscillator**"
   ]
  },
  {
   "cell_type": "markdown",
   "metadata": {},
   "source": [
    "As an easy walkthrough, let us work through the Moyal equation for the (quantum) simple harmonic oscillator (SHO). As we are familiar with in the Hilbert space formalism, the SHO can be described by the following Liouville-von Neumann equation:\n",
    "$$\n",
    "\\frac{\\mathrm{d}\\rho}{\\mathrm{d}t} = -i\\left(\\hat{a}^\\dagger \\hat{a}\\rho-\\rho\\hat{a}^\\dagger \\hat{a}\\right)\\tag{1}\n",
    "$$\n",
    "where $\\hat{a}=\\left(\\hat{x}+i\\hat{p}\\right)/\\sqrt{2}$ is the annihilation operator. The Moyal equation can be obtained by applying the Wigner transformation to Eq. (1). We obtain\n",
    "$$\n",
    "{\\partial_t W} = -i\\left(\\hat{a}^\\dagger \\star \\hat{a}\\star W-W\\star\\hat{a}^\\dagger\\star \\hat{a}\\right)\\tag{2}\n",
    "$$\n",
    "where $W$ is the system's Wigner function. Here the Moyal star-product is defined as:\n",
    "$$\n",
    "A(x,p)\\star B(x,p) = A\\left(x+\\frac{i}{2}\\partial_{p'}, p-\\frac{i}{2}\\partial_{x'}\\right)B(x',p')\\Big|_{x'=x,p'=p} = B\\left(x-\\frac{i}{2}\\partial_{p'}, p+\\frac{i}{2}\\partial_{x'}\\right)A(x',p')\\Big|_{x'=x,p'=p} \\tag{3}\n",
    "$$\n",
    "It is essentially ordinary multiplication between two scalar functions, which behaves like matrix multiplication. The change $x\\rightarrow x\\pm i\\partial_x/2$ and likewise for $p is called the \"Bopp shift\".\n",
    "\n",
    "This should be enough explanation---more information is available in our references. Let us code. \n",
    "\n",
    "---\n",
    "\n",
    "For the interested readers wanting to try this for themselves, feel free to install the module via `pip`:\n",
    "\n",
    "```\n",
    "pip install git+https://github.com/hendry24/moyalstar\n",
    "```"
   ]
  },
  {
   "cell_type": "code",
   "execution_count": null,
   "metadata": {},
   "outputs": [
    {
     "ename": "ModuleNotFoundError",
     "evalue": "No module named 'moyalstar.utils.multiprocessing'",
     "output_type": "error",
     "traceback": [
      "\u001b[0;31m---------------------------------------------------------------------------\u001b[0m",
      "\u001b[0;31mModuleNotFoundError\u001b[0m                       Traceback (most recent call last)",
      "Cell \u001b[0;32mIn[1], line 1\u001b[0m\n\u001b[0;32m----> 1\u001b[0m \u001b[38;5;28;01mimport\u001b[39;00m \u001b[38;5;21;01mmoyalstar\u001b[39;00m \u001b[38;5;28;01mas\u001b[39;00m \u001b[38;5;21;01mms\u001b[39;00m\n\u001b[1;32m      2\u001b[0m \u001b[38;5;28;01mimport\u001b[39;00m \u001b[38;5;21;01msympy\u001b[39;00m \u001b[38;5;28;01mas\u001b[39;00m \u001b[38;5;21;01msm\u001b[39;00m\n\u001b[1;32m      4\u001b[0m \u001b[38;5;66;03m# ms.mp_config[\"enable\"] = False\u001b[39;00m\n",
      "File \u001b[0;32m~/Documents/github_repo/moyalstar/moyalstar/__init__.py:1\u001b[0m\n\u001b[0;32m----> 1\u001b[0m \u001b[38;5;28;01mfrom\u001b[39;00m \u001b[38;5;21;01m.\u001b[39;00m\u001b[38;5;21;01mcore\u001b[39;00m \u001b[38;5;28;01mimport\u001b[39;00m \u001b[38;5;241m*\u001b[39m\n\u001b[1;32m      2\u001b[0m \u001b[38;5;28;01mfrom\u001b[39;00m \u001b[38;5;21;01m.\u001b[39;00m\u001b[38;5;21;01mutils\u001b[39;00m \u001b[38;5;28;01mimport\u001b[39;00m \u001b[38;5;241m*\u001b[39m\n",
      "File \u001b[0;32m~/Documents/github_repo/moyalstar/moyalstar/core.py:3\u001b[0m\n\u001b[1;32m      1\u001b[0m \u001b[38;5;28;01mimport\u001b[39;00m \u001b[38;5;21;01msympy\u001b[39;00m \u001b[38;5;28;01mas\u001b[39;00m \u001b[38;5;21;01msm\u001b[39;00m\n\u001b[0;32m----> 3\u001b[0m \u001b[38;5;28;01mfrom\u001b[39;00m \u001b[38;5;21;01m.\u001b[39;00m\u001b[38;5;21;01mutils\u001b[39;00m\u001b[38;5;21;01m.\u001b[39;00m\u001b[38;5;21;01mfunctions\u001b[39;00m \u001b[38;5;28;01mimport\u001b[39;00m get_objects, _get_primed_objects, _make_prime, _remove_prime\n\u001b[1;32m      4\u001b[0m \u001b[38;5;28;01mfrom\u001b[39;00m \u001b[38;5;21;01m.\u001b[39;00m\u001b[38;5;21;01mutils\u001b[39;00m \u001b[38;5;28;01mimport\u001b[39;00m objects\n\u001b[1;32m      6\u001b[0m \u001b[38;5;28;01mfrom\u001b[39;00m \u001b[38;5;21;01mmultiprocessing\u001b[39;00m \u001b[38;5;28;01mimport\u001b[39;00m Pool\n",
      "File \u001b[0;32m~/Documents/github_repo/moyalstar/moyalstar/utils/__init__.py:2\u001b[0m\n\u001b[1;32m      1\u001b[0m \u001b[38;5;28;01mfrom\u001b[39;00m \u001b[38;5;21;01m.\u001b[39;00m\u001b[38;5;21;01mfunctions\u001b[39;00m \u001b[38;5;28;01mimport\u001b[39;00m \u001b[38;5;241m*\u001b[39m\n\u001b[0;32m----> 2\u001b[0m \u001b[38;5;28;01mfrom\u001b[39;00m \u001b[38;5;21;01m.\u001b[39;00m\u001b[38;5;21;01mmultiprocessing\u001b[39;00m \u001b[38;5;28;01mimport\u001b[39;00m \u001b[38;5;241m*\u001b[39m\n\u001b[1;32m      3\u001b[0m \u001b[38;5;28;01mfrom\u001b[39;00m \u001b[38;5;21;01m.\u001b[39;00m\u001b[38;5;21;01mobjects\u001b[39;00m \u001b[38;5;28;01mimport\u001b[39;00m \u001b[38;5;241m*\u001b[39m\n",
      "\u001b[0;31mModuleNotFoundError\u001b[0m: No module named 'moyalstar.utils.multiprocessing'"
     ]
    }
   ],
   "source": [
    "import moyalstar as ms\n",
    "import sympy as sm\n"
   ]
  },
  {
   "cell_type": "markdown",
   "metadata": {},
   "source": [
    "### **Setting symbols**\n",
    "\n",
    "#### Variables beginning with double letters are deliberately made noncommutative."
   ]
  },
  {
   "cell_type": "code",
   "execution_count": null,
   "metadata": {},
   "outputs": [
    {
     "data": {
      "text/latex": [
       "$\\displaystyle \\frac{\\sqrt{2} \\left(i p + x\\right)}{2}$"
      ],
      "text/plain": [
       "sqrt(2)*(I*p + x)/2"
      ]
     },
     "execution_count": 2,
     "metadata": {},
     "output_type": "execute_result"
    }
   ],
   "source": [
    "I, x, p, W = ms.get_objects()\n",
    "\n",
    "sqrt2 =sm.sqrt(2)\n",
    "t = sm.symbols(\"t\", real=True)\n",
    "\n",
    "a = (x + I*p)/sqrt2\n",
    "adag = sm.conjugate(a)\n",
    "a"
   ]
  },
  {
   "cell_type": "markdown",
   "metadata": {},
   "source": [
    "### **Trying out the Bopp shift**"
   ]
  },
  {
   "cell_type": "code",
   "execution_count": null,
   "metadata": {},
   "outputs": [
    {
     "data": {
      "text/latex": [
       "$\\displaystyle x + \\frac{i \\partial_{p'}}{2}$"
      ],
      "text/plain": [
       "x + I*\\partial_{p'}/2"
      ]
     },
     "execution_count": 3,
     "metadata": {},
     "output_type": "execute_result"
    }
   ],
   "source": [
    "ms.bopp(x)"
   ]
  },
  {
   "cell_type": "code",
   "execution_count": null,
   "metadata": {},
   "outputs": [
    {
     "data": {
      "text/latex": [
       "$\\displaystyle x - \\frac{i \\partial_{p'}}{2}$"
      ],
      "text/plain": [
       "x - I*\\partial_{p'}/2"
      ]
     },
     "execution_count": 4,
     "metadata": {},
     "output_type": "execute_result"
    }
   ],
   "source": [
    "ms.bopp(x, left=True)"
   ]
  },
  {
   "cell_type": "code",
   "execution_count": null,
   "metadata": {},
   "outputs": [
    {
     "data": {
      "text/latex": [
       "$\\displaystyle \\frac{\\sqrt{2} i p}{2} + \\frac{\\sqrt{2} x}{2} + \\frac{\\sqrt{2} i \\partial_{p'}}{4} + \\frac{\\sqrt{2} \\partial_{x'}}{4}$"
      ],
      "text/plain": [
       "sqrt(2)*I*p/2 + sqrt(2)*x/2 + sqrt(2)*I*\\partial_{p'}/4 + sqrt(2)*\\partial_{x'}/4"
      ]
     },
     "execution_count": 5,
     "metadata": {},
     "output_type": "execute_result"
    }
   ],
   "source": [
    "ms.bopp(a)"
   ]
  },
  {
   "cell_type": "markdown",
   "metadata": {},
   "source": [
    "### **Calculating the Moyal star-product**"
   ]
  },
  {
   "cell_type": "code",
   "execution_count": null,
   "metadata": {},
   "outputs": [
    {
     "ename": "ValueError",
     "evalue": "Unknown options: {'commutative': True, 'real': True}",
     "output_type": "error",
     "traceback": [
      "\u001b[0;31m---------------------------------------------------------------------------\u001b[0m",
      "\u001b[0;31mRemoteTraceback\u001b[0m                           Traceback (most recent call last)",
      "\u001b[0;31mRemoteTraceback\u001b[0m: \n\"\"\"\nValueError: Error from parse_expr with transformed code: 'Mul (Rational (Integer (1 ),Integer (2 )),Function (\\'p\\' )(\\'p\\',commutative =True ,real =True ),Function (\\'pp\\' )(\"p\\'\",commutative =False ))'\n\nThe above exception was the direct cause of the following exception:\n\nTraceback (most recent call last):\n  File \"/usr/lib/python3.12/multiprocessing/pool.py\", line 125, in worker\n    result = (True, func(*args, **kwds))\n                    ^^^^^^^^^^^^^^^^^^^\n  File \"/usr/lib/python3.12/multiprocessing/pool.py\", line 48, in mapstar\n    return list(map(*args))\n           ^^^^^^^^^^^^^^^^\n  File \"/home/hendry/Documents/github_repo/moyalstar/moyalstar/core.py\", line 150, in _replace_diff\n    q = sm.sympify(q)\n        ^^^^^^^^^^^^^\n  File \"/home/hendry/pyvenv/lib/python3.12/site-packages/sympy/core/sympify.py\", line 481, in sympify\n    expr = parse_expr(a, local_dict=locals, transformations=transformations, evaluate=evaluate)\n           ^^^^^^^^^^^^^^^^^^^^^^^^^^^^^^^^^^^^^^^^^^^^^^^^^^^^^^^^^^^^^^^^^^^^^^^^^^^^^^^^^^^^\n  File \"/home/hendry/pyvenv/lib/python3.12/site-packages/sympy/parsing/sympy_parser.py\", line 1090, in parse_expr\n    raise e from ValueError(f\"Error from parse_expr with transformed code: {code!r}\")\n  File \"/home/hendry/pyvenv/lib/python3.12/site-packages/sympy/parsing/sympy_parser.py\", line 1081, in parse_expr\n    rv = eval_expr(code, local_dict, global_dict)\n         ^^^^^^^^^^^^^^^^^^^^^^^^^^^^^^^^^^^^^^^^\n  File \"/home/hendry/pyvenv/lib/python3.12/site-packages/sympy/parsing/sympy_parser.py\", line 909, in eval_expr\n    expr = eval(\n           ^^^^^\n  File \"<string>\", line 1, in <module>\n  File \"/home/hendry/pyvenv/lib/python3.12/site-packages/sympy/core/function.py\", line 832, in __new__\n    obj = super().__new__(cls, *args, **options)\n          ^^^^^^^^^^^^^^^^^^^^^^^^^^^^^^^^^^^^^^\n  File \"/home/hendry/pyvenv/lib/python3.12/site-packages/sympy/core/cache.py\", line 72, in wrapper\n    retval = cfunc(*args, **kwargs)\n             ^^^^^^^^^^^^^^^^^^^^^^\n  File \"/home/hendry/pyvenv/lib/python3.12/site-packages/sympy/core/function.py\", line 466, in __new__\n    result = super().__new__(cls, *args, **options)\n             ^^^^^^^^^^^^^^^^^^^^^^^^^^^^^^^^^^^^^^\n  File \"/home/hendry/pyvenv/lib/python3.12/site-packages/sympy/core/cache.py\", line 72, in wrapper\n    retval = cfunc(*args, **kwargs)\n             ^^^^^^^^^^^^^^^^^^^^^^\n  File \"/home/hendry/pyvenv/lib/python3.12/site-packages/sympy/core/function.py\", line 304, in __new__\n    raise ValueError(\"Unknown options: %s\" % options)\nValueError: Unknown options: {'commutative': True, 'real': True}\n\"\"\"",
      "\nThe above exception was the direct cause of the following exception:\n",
      "\u001b[0;31mValueError\u001b[0m                                Traceback (most recent call last)",
      "Cell \u001b[0;32mIn[6], line 1\u001b[0m\n\u001b[0;32m----> 1\u001b[0m adag_star_a \u001b[38;5;241m=\u001b[39m \u001b[43mms\u001b[49m\u001b[38;5;241;43m.\u001b[39;49m\u001b[43mstar\u001b[49m\u001b[43m(\u001b[49m\u001b[43madag\u001b[49m\u001b[43m,\u001b[49m\u001b[43m \u001b[49m\u001b[43ma\u001b[49m\u001b[43m)\u001b[49m\n\u001b[1;32m      2\u001b[0m adag_star_a_star_W \u001b[38;5;241m=\u001b[39m ms\u001b[38;5;241m.\u001b[39mstar(adag_star_a, W)\n\u001b[1;32m      3\u001b[0m adag_star_a_star_W\n",
      "File \u001b[0;32m~/Documents/github_repo/moyalstar/moyalstar/core.py:90\u001b[0m, in \u001b[0;36mstar\u001b[0;34m(A, B, do)\u001b[0m\n\u001b[1;32m     88\u001b[0m \u001b[38;5;28;01mif\u001b[39;00m use_mp:\n\u001b[1;32m     89\u001b[0m     \u001b[38;5;28;01mwith\u001b[39;00m Pool(mp_config[\u001b[38;5;124m\"\u001b[39m\u001b[38;5;124mnum_cpus\u001b[39m\u001b[38;5;124m\"\u001b[39m]) \u001b[38;5;28;01mas\u001b[39;00m pool:\n\u001b[0;32m---> 90\u001b[0m         out \u001b[38;5;241m=\u001b[39m sm\u001b[38;5;241m.\u001b[39mAdd(\u001b[38;5;241m*\u001b[39m\u001b[43mpool\u001b[49m\u001b[38;5;241;43m.\u001b[39;49m\u001b[43mmap\u001b[49m\u001b[43m(\u001b[49m\u001b[43m_replace_diff\u001b[49m\u001b[43m,\u001b[49m\u001b[43m \u001b[49m\u001b[43mq_args\u001b[49m\u001b[43m)\u001b[49m)\n\u001b[1;32m     91\u001b[0m \u001b[38;5;28;01melse\u001b[39;00m:\n\u001b[1;32m     92\u001b[0m     out \u001b[38;5;241m=\u001b[39m sm\u001b[38;5;241m.\u001b[39mAdd(\u001b[38;5;241m*\u001b[39m[_replace_diff(qq) \u001b[38;5;28;01mfor\u001b[39;00m qq \u001b[38;5;129;01min\u001b[39;00m q_args])\n",
      "File \u001b[0;32m/usr/lib/python3.12/multiprocessing/pool.py:367\u001b[0m, in \u001b[0;36mPool.map\u001b[0;34m(self, func, iterable, chunksize)\u001b[0m\n\u001b[1;32m    362\u001b[0m \u001b[38;5;28;01mdef\u001b[39;00m \u001b[38;5;21mmap\u001b[39m(\u001b[38;5;28mself\u001b[39m, func, iterable, chunksize\u001b[38;5;241m=\u001b[39m\u001b[38;5;28;01mNone\u001b[39;00m):\n\u001b[1;32m    363\u001b[0m \u001b[38;5;250m    \u001b[39m\u001b[38;5;124;03m'''\u001b[39;00m\n\u001b[1;32m    364\u001b[0m \u001b[38;5;124;03m    Apply `func` to each element in `iterable`, collecting the results\u001b[39;00m\n\u001b[1;32m    365\u001b[0m \u001b[38;5;124;03m    in a list that is returned.\u001b[39;00m\n\u001b[1;32m    366\u001b[0m \u001b[38;5;124;03m    '''\u001b[39;00m\n\u001b[0;32m--> 367\u001b[0m     \u001b[38;5;28;01mreturn\u001b[39;00m \u001b[38;5;28;43mself\u001b[39;49m\u001b[38;5;241;43m.\u001b[39;49m\u001b[43m_map_async\u001b[49m\u001b[43m(\u001b[49m\u001b[43mfunc\u001b[49m\u001b[43m,\u001b[49m\u001b[43m \u001b[49m\u001b[43miterable\u001b[49m\u001b[43m,\u001b[49m\u001b[43m \u001b[49m\u001b[43mmapstar\u001b[49m\u001b[43m,\u001b[49m\u001b[43m \u001b[49m\u001b[43mchunksize\u001b[49m\u001b[43m)\u001b[49m\u001b[38;5;241;43m.\u001b[39;49m\u001b[43mget\u001b[49m\u001b[43m(\u001b[49m\u001b[43m)\u001b[49m\n",
      "File \u001b[0;32m/usr/lib/python3.12/multiprocessing/pool.py:774\u001b[0m, in \u001b[0;36mApplyResult.get\u001b[0;34m(self, timeout)\u001b[0m\n\u001b[1;32m    772\u001b[0m     \u001b[38;5;28;01mreturn\u001b[39;00m \u001b[38;5;28mself\u001b[39m\u001b[38;5;241m.\u001b[39m_value\n\u001b[1;32m    773\u001b[0m \u001b[38;5;28;01melse\u001b[39;00m:\n\u001b[0;32m--> 774\u001b[0m     \u001b[38;5;28;01mraise\u001b[39;00m \u001b[38;5;28mself\u001b[39m\u001b[38;5;241m.\u001b[39m_value\n",
      "\u001b[0;31mValueError\u001b[0m: Unknown options: {'commutative': True, 'real': True}"
     ]
    }
   ],
   "source": [
    "adag_star_a = ms.star(adag, a)\n",
    "adag_star_a_star_W = ms.star(adag_star_a, W)\n",
    "adag_star_a_star_W"
   ]
  },
  {
   "cell_type": "code",
   "execution_count": null,
   "metadata": {},
   "outputs": [],
   "source": [
    "W_star_adag_star_a = ms.star(W, adag_star_a)\n",
    "W_star_adag_star_a"
   ]
  },
  {
   "cell_type": "markdown",
   "metadata": {},
   "source": [
    "### **The Moyal equation**"
   ]
  },
  {
   "cell_type": "code",
   "execution_count": null,
   "metadata": {},
   "outputs": [],
   "source": [
    "sm.Equality(sm.Derivative(W, t),\n",
    "            sm.expand(-I * (adag_star_a_star_W - W_star_adag_star_a)))"
   ]
  },
  {
   "cell_type": "markdown",
   "metadata": {},
   "source": [
    "and we are done!\n",
    "\n",
    "---\n",
    "\n",
    "### **References**\n",
    "\n",
    "    - T. Curtright, D. Fairlie, and C. Zachos, A Concise Treatise On Quantum Mechanics In Phase Space (World Scientific Publishing Company, 2013)\n",
    "    \n",
    "    - https://physics.stackexchange.com/questions/578522/why-does-the-star-product-satisfy-the-bopp-shift-relations-fx-p-star-gx-p\n"
   ]
  }
 ],
 "metadata": {
  "kernelspec": {
   "display_name": "pyvenv",
   "language": "python",
   "name": "python3"
  },
  "language_info": {
   "codemirror_mode": {
    "name": "ipython",
    "version": 3
   },
   "file_extension": ".py",
   "mimetype": "text/x-python",
   "name": "python",
   "nbconvert_exporter": "python",
   "pygments_lexer": "ipython3",
   "version": "3.12.3"
  }
 },
 "nbformat": 4,
 "nbformat_minor": 2
}

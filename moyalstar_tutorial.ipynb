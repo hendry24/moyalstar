{
 "cells": [
  {
   "cell_type": "markdown",
   "metadata": {},
   "source": [
    "# **Tutorial: the simple harmonic oscillator**"
   ]
  },
  {
   "cell_type": "markdown",
   "metadata": {},
   "source": [
    "As an easy walkthrough, let us work through the Moyal equation for the (quantum) simple harmonic oscillator (SHO). As we are familiar with in the Hilbert space formalism, the SHO can be described by the following Liouville-von Neumann equation:\n",
    "$$\n",
    "\\frac{\\mathrm{d}\\rho}{\\mathrm{d}t} = -i\\left(\\hat{a}^\\dagger \\hat{a}\\rho-\\rho\\hat{a}^\\dagger \\hat{a}\\right)\\tag{1}\n",
    "$$\n",
    "where $\\hat{a}=\\left(\\hat{x}+i\\hat{p}\\right)/\\sqrt{2}$ is the annihilation operator. The Moyal equation can be obtained by applying the Wigner transformation to Eq. (1). We obtain\n",
    "$$\n",
    "{\\partial_t W} = -i\\left(\\hat{a}^\\dagger \\star \\hat{a}\\star W-W\\star\\hat{a}^\\dagger\\star \\hat{a}\\right)\\tag{2}\n",
    "$$\n",
    "where $W$ is the system's Wigner function. Here the Moyal star-product is defined as:\n",
    "$$\n",
    "A(x,p)\\star B(x,p) = A\\left(x+\\frac{i}{2}\\partial_{p'}, p-\\frac{i}{2}\\partial_{x'}\\right)B(x',p')\\Big|_{x'=x,p'=p} = B\\left(x-\\frac{i}{2}\\partial_{p'}, p+\\frac{i}{2}\\partial_{x'}\\right)A(x',p')\\Big|_{x'=x,p'=p} \\tag{3}\n",
    "$$\n",
    "It is essentially ordinary multiplication between two scalar functions, which behaves like matrix multiplication. The change $x\\rightarrow x\\pm i\\partial_x/2$ and likewise for $p is called the \"Bopp shift\".\n",
    "\n",
    "This should be enough explanation---more information is available in our references. Let us code. \n",
    "\n",
    "---\n",
    "\n",
    "For the interested readers wanting to try this for themselves, feel free to install the module via `pip`:\n",
    "\n",
    "```\n",
    "pip install git+https://github.com/hendry24/moyalstar\n",
    "```"
   ]
  },
  {
   "cell_type": "code",
   "execution_count": 12,
   "metadata": {},
   "outputs": [],
   "source": [
    "import moyalstar as ms\n",
    "import sympy as sm\n",
    "\n",
    "# ms.mp_config['enable']=False\n",
    "\n",
    "a = ms.annihilateOp()\n",
    "ad = ms.createOp()\n",
    "W = ms.W()\n",
    "gamma = sm.Symbol(r\"\\gamma\")"
   ]
  },
  {
   "cell_type": "code",
   "execution_count": 25,
   "metadata": {},
   "outputs": [
    {
     "ename": "AttributeError",
     "evalue": "'NoneType' object has no attribute 'args'",
     "output_type": "error",
     "traceback": [
      "\u001b[0;31m---------------------------------------------------------------------------\u001b[0m",
      "\u001b[0;31mAttributeError\u001b[0m                            Traceback (most recent call last)",
      "File \u001b[0;32m~/pyvenv/lib/python3.12/site-packages/IPython/core/formatters.py:347\u001b[0m, in \u001b[0;36mBaseFormatter.__call__\u001b[0;34m(self, obj)\u001b[0m\n\u001b[1;32m    345\u001b[0m     method \u001b[38;5;241m=\u001b[39m get_real_method(obj, \u001b[38;5;28mself\u001b[39m\u001b[38;5;241m.\u001b[39mprint_method)\n\u001b[1;32m    346\u001b[0m     \u001b[38;5;28;01mif\u001b[39;00m method \u001b[38;5;129;01mis\u001b[39;00m \u001b[38;5;129;01mnot\u001b[39;00m \u001b[38;5;28;01mNone\u001b[39;00m:\n\u001b[0;32m--> 347\u001b[0m         \u001b[38;5;28;01mreturn\u001b[39;00m \u001b[43mmethod\u001b[49m\u001b[43m(\u001b[49m\u001b[43m)\u001b[49m\n\u001b[1;32m    348\u001b[0m     \u001b[38;5;28;01mreturn\u001b[39;00m \u001b[38;5;28;01mNone\u001b[39;00m\n\u001b[1;32m    349\u001b[0m \u001b[38;5;28;01melse\u001b[39;00m:\n",
      "File \u001b[0;32m~/pyvenv/lib/python3.12/site-packages/sympy/core/_print_helpers.py:64\u001b[0m, in \u001b[0;36mPrintable._repr_latex_\u001b[0;34m(self)\u001b[0m\n\u001b[1;32m     55\u001b[0m \u001b[38;5;250m\u001b[39m\u001b[38;5;124;03m\"\"\"\u001b[39;00m\n\u001b[1;32m     56\u001b[0m \u001b[38;5;124;03mIPython/Jupyter LaTeX printing\u001b[39;00m\n\u001b[1;32m     57\u001b[0m \n\u001b[0;32m   (...)\u001b[0m\n\u001b[1;32m     61\u001b[0m \u001b[38;5;124;03mSymPy objects, like lists and dictionaries of expressions.\u001b[39;00m\n\u001b[1;32m     62\u001b[0m \u001b[38;5;124;03m\"\"\"\u001b[39;00m\n\u001b[1;32m     63\u001b[0m \u001b[38;5;28;01mfrom\u001b[39;00m \u001b[38;5;21;01msympy\u001b[39;00m\u001b[38;5;21;01m.\u001b[39;00m\u001b[38;5;21;01mprinting\u001b[39;00m\u001b[38;5;21;01m.\u001b[39;00m\u001b[38;5;21;01mlatex\u001b[39;00m \u001b[38;5;28;01mimport\u001b[39;00m latex\n\u001b[0;32m---> 64\u001b[0m s \u001b[38;5;241m=\u001b[39m \u001b[43mlatex\u001b[49m\u001b[43m(\u001b[49m\u001b[38;5;28;43mself\u001b[39;49m\u001b[43m,\u001b[49m\u001b[43m \u001b[49m\u001b[43mmode\u001b[49m\u001b[38;5;241;43m=\u001b[39;49m\u001b[38;5;124;43m'\u001b[39;49m\u001b[38;5;124;43mplain\u001b[39;49m\u001b[38;5;124;43m'\u001b[39;49m\u001b[43m)\u001b[49m\n\u001b[1;32m     65\u001b[0m \u001b[38;5;28;01mreturn\u001b[39;00m \u001b[38;5;124m\"\u001b[39m\u001b[38;5;124m$\u001b[39m\u001b[38;5;130;01m\\\\\u001b[39;00m\u001b[38;5;124mdisplaystyle \u001b[39m\u001b[38;5;132;01m%s\u001b[39;00m\u001b[38;5;124m$\u001b[39m\u001b[38;5;124m\"\u001b[39m \u001b[38;5;241m%\u001b[39m s\n",
      "File \u001b[0;32m~/pyvenv/lib/python3.12/site-packages/sympy/printing/printer.py:372\u001b[0m, in \u001b[0;36m_PrintFunction.__call__\u001b[0;34m(self, *args, **kwargs)\u001b[0m\n\u001b[1;32m    371\u001b[0m \u001b[38;5;28;01mdef\u001b[39;00m \u001b[38;5;21m__call__\u001b[39m(\u001b[38;5;28mself\u001b[39m, \u001b[38;5;241m*\u001b[39margs, \u001b[38;5;241m*\u001b[39m\u001b[38;5;241m*\u001b[39mkwargs):\n\u001b[0;32m--> 372\u001b[0m     \u001b[38;5;28;01mreturn\u001b[39;00m \u001b[38;5;28;43mself\u001b[39;49m\u001b[38;5;241;43m.\u001b[39;49m\u001b[43m__wrapped__\u001b[49m\u001b[43m(\u001b[49m\u001b[38;5;241;43m*\u001b[39;49m\u001b[43margs\u001b[49m\u001b[43m,\u001b[49m\u001b[43m \u001b[49m\u001b[38;5;241;43m*\u001b[39;49m\u001b[38;5;241;43m*\u001b[39;49m\u001b[43mkwargs\u001b[49m\u001b[43m)\u001b[49m\n",
      "File \u001b[0;32m~/pyvenv/lib/python3.12/site-packages/sympy/printing/latex.py:3179\u001b[0m, in \u001b[0;36mlatex\u001b[0;34m(expr, **settings)\u001b[0m\n\u001b[1;32m   2964\u001b[0m \u001b[38;5;129m@print_function\u001b[39m(LatexPrinter)\n\u001b[1;32m   2965\u001b[0m \u001b[38;5;28;01mdef\u001b[39;00m \u001b[38;5;21mlatex\u001b[39m(expr, \u001b[38;5;241m*\u001b[39m\u001b[38;5;241m*\u001b[39msettings):\n\u001b[1;32m   2966\u001b[0m \u001b[38;5;250m    \u001b[39m\u001b[38;5;124mr\u001b[39m\u001b[38;5;124;03m\"\"\"Convert the given expression to LaTeX string representation.\u001b[39;00m\n\u001b[1;32m   2967\u001b[0m \n\u001b[1;32m   2968\u001b[0m \u001b[38;5;124;03m    Parameters\u001b[39;00m\n\u001b[0;32m   (...)\u001b[0m\n\u001b[1;32m   3177\u001b[0m \n\u001b[1;32m   3178\u001b[0m \u001b[38;5;124;03m    \"\"\"\u001b[39;00m\n\u001b[0;32m-> 3179\u001b[0m     \u001b[38;5;28;01mreturn\u001b[39;00m \u001b[43mLatexPrinter\u001b[49m\u001b[43m(\u001b[49m\u001b[43msettings\u001b[49m\u001b[43m)\u001b[49m\u001b[38;5;241;43m.\u001b[39;49m\u001b[43mdoprint\u001b[49m\u001b[43m(\u001b[49m\u001b[43mexpr\u001b[49m\u001b[43m)\u001b[49m\n",
      "File \u001b[0;32m~/pyvenv/lib/python3.12/site-packages/sympy/printing/latex.py:266\u001b[0m, in \u001b[0;36mLatexPrinter.doprint\u001b[0;34m(self, expr)\u001b[0m\n\u001b[1;32m    265\u001b[0m \u001b[38;5;28;01mdef\u001b[39;00m \u001b[38;5;21mdoprint\u001b[39m(\u001b[38;5;28mself\u001b[39m, expr) \u001b[38;5;241m-\u001b[39m\u001b[38;5;241m>\u001b[39m \u001b[38;5;28mstr\u001b[39m:\n\u001b[0;32m--> 266\u001b[0m     tex \u001b[38;5;241m=\u001b[39m \u001b[43mPrinter\u001b[49m\u001b[38;5;241;43m.\u001b[39;49m\u001b[43mdoprint\u001b[49m\u001b[43m(\u001b[49m\u001b[38;5;28;43mself\u001b[39;49m\u001b[43m,\u001b[49m\u001b[43m \u001b[49m\u001b[43mexpr\u001b[49m\u001b[43m)\u001b[49m\n\u001b[1;32m    268\u001b[0m     \u001b[38;5;28;01mif\u001b[39;00m \u001b[38;5;28mself\u001b[39m\u001b[38;5;241m.\u001b[39m_settings[\u001b[38;5;124m'\u001b[39m\u001b[38;5;124mmode\u001b[39m\u001b[38;5;124m'\u001b[39m] \u001b[38;5;241m==\u001b[39m \u001b[38;5;124m'\u001b[39m\u001b[38;5;124mplain\u001b[39m\u001b[38;5;124m'\u001b[39m:\n\u001b[1;32m    269\u001b[0m         \u001b[38;5;28;01mreturn\u001b[39;00m tex\n",
      "File \u001b[0;32m~/pyvenv/lib/python3.12/site-packages/sympy/printing/printer.py:292\u001b[0m, in \u001b[0;36mPrinter.doprint\u001b[0;34m(self, expr)\u001b[0m\n\u001b[1;32m    290\u001b[0m \u001b[38;5;28;01mdef\u001b[39;00m \u001b[38;5;21mdoprint\u001b[39m(\u001b[38;5;28mself\u001b[39m, expr):\n\u001b[1;32m    291\u001b[0m \u001b[38;5;250m    \u001b[39m\u001b[38;5;124;03m\"\"\"Returns printer's representation for expr (as a string)\"\"\"\u001b[39;00m\n\u001b[0;32m--> 292\u001b[0m     \u001b[38;5;28;01mreturn\u001b[39;00m \u001b[38;5;28mself\u001b[39m\u001b[38;5;241m.\u001b[39m_str(\u001b[38;5;28;43mself\u001b[39;49m\u001b[38;5;241;43m.\u001b[39;49m\u001b[43m_print\u001b[49m\u001b[43m(\u001b[49m\u001b[43mexpr\u001b[49m\u001b[43m)\u001b[49m)\n",
      "File \u001b[0;32m~/pyvenv/lib/python3.12/site-packages/sympy/printing/printer.py:331\u001b[0m, in \u001b[0;36mPrinter._print\u001b[0;34m(self, expr, **kwargs)\u001b[0m\n\u001b[1;32m    329\u001b[0m     printmethod \u001b[38;5;241m=\u001b[39m \u001b[38;5;28mgetattr\u001b[39m(\u001b[38;5;28mself\u001b[39m, printmethodname, \u001b[38;5;28;01mNone\u001b[39;00m)\n\u001b[1;32m    330\u001b[0m     \u001b[38;5;28;01mif\u001b[39;00m printmethod \u001b[38;5;129;01mis\u001b[39;00m \u001b[38;5;129;01mnot\u001b[39;00m \u001b[38;5;28;01mNone\u001b[39;00m:\n\u001b[0;32m--> 331\u001b[0m         \u001b[38;5;28;01mreturn\u001b[39;00m \u001b[43mprintmethod\u001b[49m\u001b[43m(\u001b[49m\u001b[43mexpr\u001b[49m\u001b[43m,\u001b[49m\u001b[43m \u001b[49m\u001b[38;5;241;43m*\u001b[39;49m\u001b[38;5;241;43m*\u001b[39;49m\u001b[43mkwargs\u001b[49m\u001b[43m)\u001b[49m\n\u001b[1;32m    332\u001b[0m \u001b[38;5;66;03m# Unknown object, fall back to the emptyPrinter.\u001b[39;00m\n\u001b[1;32m    333\u001b[0m \u001b[38;5;28;01mreturn\u001b[39;00m \u001b[38;5;28mself\u001b[39m\u001b[38;5;241m.\u001b[39memptyPrinter(expr)\n",
      "File \u001b[0;32m~/pyvenv/lib/python3.12/site-packages/sympy/printing/latex.py:402\u001b[0m, in \u001b[0;36mLatexPrinter._print_Add\u001b[0;34m(self, expr, order)\u001b[0m\n\u001b[1;32m    400\u001b[0m     tex \u001b[38;5;241m+\u001b[39m\u001b[38;5;241m=\u001b[39m \u001b[38;5;124m\"\u001b[39m\u001b[38;5;124m + \u001b[39m\u001b[38;5;124m\"\u001b[39m\n\u001b[1;32m    401\u001b[0m term_tex \u001b[38;5;241m=\u001b[39m \u001b[38;5;28mself\u001b[39m\u001b[38;5;241m.\u001b[39m_print(term)\n\u001b[0;32m--> 402\u001b[0m \u001b[38;5;28;01mif\u001b[39;00m \u001b[38;5;28;43mself\u001b[39;49m\u001b[38;5;241;43m.\u001b[39;49m\u001b[43m_needs_add_brackets\u001b[49m\u001b[43m(\u001b[49m\u001b[43mterm\u001b[49m\u001b[43m)\u001b[49m:\n\u001b[1;32m    403\u001b[0m     term_tex \u001b[38;5;241m=\u001b[39m \u001b[38;5;124mr\u001b[39m\u001b[38;5;124m\"\u001b[39m\u001b[38;5;124m\\\u001b[39m\u001b[38;5;124mleft(\u001b[39m\u001b[38;5;132;01m%s\u001b[39;00m\u001b[38;5;124m\\\u001b[39m\u001b[38;5;124mright)\u001b[39m\u001b[38;5;124m\"\u001b[39m \u001b[38;5;241m%\u001b[39m term_tex\n\u001b[1;32m    404\u001b[0m tex \u001b[38;5;241m+\u001b[39m\u001b[38;5;241m=\u001b[39m term_tex\n",
      "File \u001b[0;32m~/pyvenv/lib/python3.12/site-packages/sympy/printing/latex.py:350\u001b[0m, in \u001b[0;36mLatexPrinter._needs_add_brackets\u001b[0;34m(self, expr)\u001b[0m\n\u001b[1;32m    348\u001b[0m \u001b[38;5;28;01mif\u001b[39;00m expr\u001b[38;5;241m.\u001b[39mis_Relational:\n\u001b[1;32m    349\u001b[0m     \u001b[38;5;28;01mreturn\u001b[39;00m \u001b[38;5;28;01mTrue\u001b[39;00m\n\u001b[0;32m--> 350\u001b[0m \u001b[38;5;28;01mif\u001b[39;00m \u001b[38;5;28;43many\u001b[39;49m\u001b[43m(\u001b[49m\u001b[43mexpr\u001b[49m\u001b[38;5;241;43m.\u001b[39;49m\u001b[43mhas\u001b[49m\u001b[43m(\u001b[49m\u001b[43mx\u001b[49m\u001b[43m)\u001b[49m\u001b[43m \u001b[49m\u001b[38;5;28;43;01mfor\u001b[39;49;00m\u001b[43m \u001b[49m\u001b[43mx\u001b[49m\u001b[43m \u001b[49m\u001b[38;5;129;43;01min\u001b[39;49;00m\u001b[43m \u001b[49m\u001b[43m(\u001b[49m\u001b[43mMod\u001b[49m\u001b[43m,\u001b[49m\u001b[43m)\u001b[49m\u001b[43m)\u001b[49m:\n\u001b[1;32m    351\u001b[0m     \u001b[38;5;28;01mreturn\u001b[39;00m \u001b[38;5;28;01mTrue\u001b[39;00m\n\u001b[1;32m    352\u001b[0m \u001b[38;5;28;01mif\u001b[39;00m expr\u001b[38;5;241m.\u001b[39mis_Add:\n",
      "File \u001b[0;32m~/pyvenv/lib/python3.12/site-packages/sympy/printing/latex.py:350\u001b[0m, in \u001b[0;36m<genexpr>\u001b[0;34m(.0)\u001b[0m\n\u001b[1;32m    348\u001b[0m \u001b[38;5;28;01mif\u001b[39;00m expr\u001b[38;5;241m.\u001b[39mis_Relational:\n\u001b[1;32m    349\u001b[0m     \u001b[38;5;28;01mreturn\u001b[39;00m \u001b[38;5;28;01mTrue\u001b[39;00m\n\u001b[0;32m--> 350\u001b[0m \u001b[38;5;28;01mif\u001b[39;00m \u001b[38;5;28many\u001b[39m(\u001b[43mexpr\u001b[49m\u001b[38;5;241;43m.\u001b[39;49m\u001b[43mhas\u001b[49m\u001b[43m(\u001b[49m\u001b[43mx\u001b[49m\u001b[43m)\u001b[49m \u001b[38;5;28;01mfor\u001b[39;00m x \u001b[38;5;129;01min\u001b[39;00m (Mod,)):\n\u001b[1;32m    351\u001b[0m     \u001b[38;5;28;01mreturn\u001b[39;00m \u001b[38;5;28;01mTrue\u001b[39;00m\n\u001b[1;32m    352\u001b[0m \u001b[38;5;28;01mif\u001b[39;00m expr\u001b[38;5;241m.\u001b[39mis_Add:\n",
      "File \u001b[0;32m~/pyvenv/lib/python3.12/site-packages/sympy/core/cache.py:72\u001b[0m, in \u001b[0;36m__cacheit.<locals>.func_wrapper.<locals>.wrapper\u001b[0;34m(*args, **kwargs)\u001b[0m\n\u001b[1;32m     69\u001b[0m \u001b[38;5;129m@wraps\u001b[39m(func)\n\u001b[1;32m     70\u001b[0m \u001b[38;5;28;01mdef\u001b[39;00m \u001b[38;5;21mwrapper\u001b[39m(\u001b[38;5;241m*\u001b[39margs, \u001b[38;5;241m*\u001b[39m\u001b[38;5;241m*\u001b[39mkwargs):\n\u001b[1;32m     71\u001b[0m     \u001b[38;5;28;01mtry\u001b[39;00m:\n\u001b[0;32m---> 72\u001b[0m         retval \u001b[38;5;241m=\u001b[39m \u001b[43mcfunc\u001b[49m\u001b[43m(\u001b[49m\u001b[38;5;241;43m*\u001b[39;49m\u001b[43margs\u001b[49m\u001b[43m,\u001b[49m\u001b[43m \u001b[49m\u001b[38;5;241;43m*\u001b[39;49m\u001b[38;5;241;43m*\u001b[39;49m\u001b[43mkwargs\u001b[49m\u001b[43m)\u001b[49m\n\u001b[1;32m     73\u001b[0m     \u001b[38;5;28;01mexcept\u001b[39;00m \u001b[38;5;167;01mTypeError\u001b[39;00m \u001b[38;5;28;01mas\u001b[39;00m e:\n\u001b[1;32m     74\u001b[0m         \u001b[38;5;28;01mif\u001b[39;00m \u001b[38;5;129;01mnot\u001b[39;00m e\u001b[38;5;241m.\u001b[39margs \u001b[38;5;129;01mor\u001b[39;00m \u001b[38;5;129;01mnot\u001b[39;00m e\u001b[38;5;241m.\u001b[39margs[\u001b[38;5;241m0\u001b[39m]\u001b[38;5;241m.\u001b[39mstartswith(\u001b[38;5;124m'\u001b[39m\u001b[38;5;124munhashable type:\u001b[39m\u001b[38;5;124m'\u001b[39m):\n",
      "File \u001b[0;32m~/pyvenv/lib/python3.12/site-packages/sympy/core/basic.py:1385\u001b[0m, in \u001b[0;36mBasic.has\u001b[0;34m(self, *patterns)\u001b[0m\n\u001b[1;32m   1338\u001b[0m \u001b[38;5;129m@cacheit\u001b[39m\n\u001b[1;32m   1339\u001b[0m \u001b[38;5;28;01mdef\u001b[39;00m \u001b[38;5;21mhas\u001b[39m(\u001b[38;5;28mself\u001b[39m, \u001b[38;5;241m*\u001b[39mpatterns):\n\u001b[1;32m   1340\u001b[0m \u001b[38;5;250m    \u001b[39m\u001b[38;5;124;03m\"\"\"\u001b[39;00m\n\u001b[1;32m   1341\u001b[0m \u001b[38;5;124;03m    Test whether any subexpression matches any of the patterns.\u001b[39;00m\n\u001b[1;32m   1342\u001b[0m \n\u001b[0;32m   (...)\u001b[0m\n\u001b[1;32m   1383\u001b[0m \n\u001b[1;32m   1384\u001b[0m \u001b[38;5;124;03m    \"\"\"\u001b[39;00m\n\u001b[0;32m-> 1385\u001b[0m     \u001b[38;5;28;01mreturn\u001b[39;00m \u001b[38;5;28;43mself\u001b[39;49m\u001b[38;5;241;43m.\u001b[39;49m\u001b[43m_has\u001b[49m\u001b[43m(\u001b[49m\u001b[43miterargs\u001b[49m\u001b[43m,\u001b[49m\u001b[43m \u001b[49m\u001b[38;5;241;43m*\u001b[39;49m\u001b[43mpatterns\u001b[49m\u001b[43m)\u001b[49m\n",
      "File \u001b[0;32m~/pyvenv/lib/python3.12/site-packages/sympy/core/basic.py:1475\u001b[0m, in \u001b[0;36mBasic._has\u001b[0;34m(self, iterargs, *patterns)\u001b[0m\n\u001b[1;32m   1473\u001b[0m                   \u001b[38;5;66;03m# doesn't define __hash__\u001b[39;00m\n\u001b[1;32m   1474\u001b[0m types \u001b[38;5;241m=\u001b[39m \u001b[38;5;28mtuple\u001b[39m(type_set)   \u001b[38;5;66;03m#\u001b[39;00m\n\u001b[0;32m-> 1475\u001b[0m \u001b[43m\u001b[49m\u001b[38;5;28;43;01mfor\u001b[39;49;00m\u001b[43m \u001b[49m\u001b[43mi\u001b[49m\u001b[43m \u001b[49m\u001b[38;5;129;43;01min\u001b[39;49;00m\u001b[43m \u001b[49m\u001b[43miterargs\u001b[49m\u001b[43m(\u001b[49m\u001b[38;5;28;43mself\u001b[39;49m\u001b[43m)\u001b[49m\u001b[43m:\u001b[49m\u001b[43m  \u001b[49m\u001b[38;5;66;43;03m#\u001b[39;49;00m\n\u001b[1;32m   1476\u001b[0m \u001b[43m    \u001b[49m\u001b[38;5;28;43;01mif\u001b[39;49;00m\u001b[43m \u001b[49m\u001b[43mi\u001b[49m\u001b[43m \u001b[49m\u001b[38;5;129;43;01min\u001b[39;49;00m\u001b[43m \u001b[49m\u001b[43mp_set\u001b[49m\u001b[43m:\u001b[49m\u001b[43m        \u001b[49m\u001b[38;5;66;43;03m# <--- here, too\u001b[39;49;00m\n\u001b[1;32m   1477\u001b[0m \u001b[43m        \u001b[49m\u001b[38;5;28;43;01mreturn\u001b[39;49;00m\u001b[43m \u001b[49m\u001b[38;5;28;43;01mTrue\u001b[39;49;00m\n",
      "File \u001b[0;32m~/pyvenv/lib/python3.12/site-packages/sympy/core/traversal.py:30\u001b[0m, in \u001b[0;36miterargs\u001b[0;34m(expr)\u001b[0m\n\u001b[1;32m     28\u001b[0m \u001b[38;5;28;01mfor\u001b[39;00m i \u001b[38;5;129;01min\u001b[39;00m args:\n\u001b[1;32m     29\u001b[0m     \u001b[38;5;28;01myield\u001b[39;00m i\n\u001b[0;32m---> 30\u001b[0m     args\u001b[38;5;241m.\u001b[39mextend(\u001b[43mi\u001b[49m\u001b[38;5;241;43m.\u001b[39;49m\u001b[43margs\u001b[49m)\n",
      "\u001b[0;31mAttributeError\u001b[0m: 'NoneType' object has no attribute 'args'"
     ]
    },
    {
     "data": {
      "text/plain": [
       "(-I)*[createOp()*annihilateOp(),densityOp()] + LindbladDissipator(\\gamma, annihilateOp(), None)"
      ]
     },
     "execution_count": 25,
     "metadata": {},
     "output_type": "execute_result"
    }
   ],
   "source": [
    "eq = ms.LindbladMasterEquation(H = ad*a, dissipators=[[gamma, a]])\n",
    "eq.rhs"
   ]
  },
  {
   "cell_type": "code",
   "execution_count": null,
   "metadata": {},
   "outputs": [],
   "source": [
    "ms.LindbladDissipator()"
   ]
  },
  {
   "cell_type": "code",
   "execution_count": 15,
   "metadata": {},
   "outputs": [
    {
     "ename": "AttributeError",
     "evalue": "'LindbladMasterEquation' object has no attribute 'wigner_transform'",
     "output_type": "error",
     "traceback": [
      "\u001b[0;31m---------------------------------------------------------------------------\u001b[0m",
      "\u001b[0;31mAttributeError\u001b[0m                            Traceback (most recent call last)",
      "Cell \u001b[0;32mIn[15], line 1\u001b[0m\n\u001b[0;32m----> 1\u001b[0m \u001b[43meq\u001b[49m\u001b[38;5;241;43m.\u001b[39;49m\u001b[43mwigner_transform\u001b[49m\n",
      "\u001b[0;31mAttributeError\u001b[0m: 'LindbladMasterEquation' object has no attribute 'wigner_transform'"
     ]
    }
   ],
   "source": [
    "eq.wigner_transform"
   ]
  },
  {
   "cell_type": "markdown",
   "metadata": {},
   "source": [
    "### **Setting symbols**\n",
    "\n",
    "#### Variables beginning with double letters are deliberately made noncommutative."
   ]
  },
  {
   "cell_type": "code",
   "execution_count": 4,
   "metadata": {},
   "outputs": [
    {
     "data": {
      "text/latex": [
       "$\\displaystyle \\frac{\\sqrt{2} \\left(i p + q\\right)}{2}$"
      ],
      "text/plain": [
       "sqrt(2)*(I*p + q)/2"
      ]
     },
     "execution_count": 4,
     "metadata": {},
     "output_type": "execute_result"
    }
   ],
   "source": [
    "I, q, p, W = ms.get_objects()\n",
    "\n",
    "sqrt2 =sm.sqrt(2)\n",
    "t = sm.symbols(\"t\", real=True)\n",
    "\n",
    "a = (q + I*p)/sqrt2\n",
    "adag = sm.conjugate(a)\n",
    "a"
   ]
  },
  {
   "cell_type": "markdown",
   "metadata": {},
   "source": [
    "### **Trying out the Bopp shift**"
   ]
  },
  {
   "cell_type": "code",
   "execution_count": 5,
   "metadata": {},
   "outputs": [
    {
     "ename": "AttributeError",
     "evalue": "module 'moyalstar' has no attribute 'bopp'",
     "output_type": "error",
     "traceback": [
      "\u001b[0;31m---------------------------------------------------------------------------\u001b[0m",
      "\u001b[0;31mAttributeError\u001b[0m                            Traceback (most recent call last)",
      "Cell \u001b[0;32mIn[5], line 1\u001b[0m\n\u001b[0;32m----> 1\u001b[0m \u001b[43mms\u001b[49m\u001b[38;5;241;43m.\u001b[39;49m\u001b[43mbopp\u001b[49m(q)\n",
      "\u001b[0;31mAttributeError\u001b[0m: module 'moyalstar' has no attribute 'bopp'"
     ]
    }
   ],
   "source": [
    "ms.bopp(q)"
   ]
  },
  {
   "cell_type": "code",
   "execution_count": null,
   "metadata": {},
   "outputs": [
    {
     "data": {
      "text/latex": [
       "$\\displaystyle q - \\frac{i \\partial_{p'}}{2}$"
      ],
      "text/plain": [
       "q - I*\\partial_{p'}/2"
      ]
     },
     "execution_count": 6,
     "metadata": {},
     "output_type": "execute_result"
    }
   ],
   "source": [
    "ms.bopp(q, left=True)"
   ]
  },
  {
   "cell_type": "code",
   "execution_count": null,
   "metadata": {},
   "outputs": [
    {
     "data": {
      "text/latex": [
       "$\\displaystyle \\frac{\\sqrt{2} i p}{2} + \\frac{\\sqrt{2} q}{2} + \\frac{\\sqrt{2} i \\partial_{p'}}{4} + \\frac{\\sqrt{2} \\partial_{q'}}{4}$"
      ],
      "text/plain": [
       "sqrt(2)*I*p/2 + sqrt(2)*q/2 + sqrt(2)*I*\\partial_{p'}/4 + sqrt(2)*\\partial_{q'}/4"
      ]
     },
     "execution_count": 7,
     "metadata": {},
     "output_type": "execute_result"
    }
   ],
   "source": [
    "ms.bopp(a)"
   ]
  },
  {
   "cell_type": "markdown",
   "metadata": {},
   "source": [
    "### **Calculating the Moyal star-product**"
   ]
  },
  {
   "cell_type": "code",
   "execution_count": null,
   "metadata": {},
   "outputs": [
    {
     "data": {
      "text/latex": [
       "$\\displaystyle \\frac{p^{2} W{\\left(q,p \\right)}}{2} - \\frac{i p \\frac{\\partial}{\\partial q} W{\\left(q,p \\right)}}{2} + \\frac{q^{2} W{\\left(q,p \\right)}}{2} + \\frac{i q \\frac{\\partial}{\\partial p} W{\\left(q,p \\right)}}{2} - \\frac{W{\\left(q,p \\right)}}{2} - \\frac{\\frac{\\partial^{2}}{\\partial p^{2}} W{\\left(q,p \\right)}}{8} - \\frac{\\frac{\\partial^{2}}{\\partial q^{2}} W{\\left(q,p \\right)}}{8}$"
      ],
      "text/plain": [
       "p**2*W(q, p)/2 - I*p*Derivative(W(q, p), q)/2 + q**2*W(q, p)/2 + I*q*Derivative(W(q, p), p)/2 - W(q, p)/2 - Derivative(W(q, p), (p, 2))/8 - Derivative(W(q, p), (q, 2))/8"
      ]
     },
     "execution_count": 8,
     "metadata": {},
     "output_type": "execute_result"
    }
   ],
   "source": [
    "adag_star_a = ms.star(adag, a)\n",
    "adag_star_a_star_W = ms.star(adag_star_a, W)\n",
    "adag_star_a_star_W"
   ]
  },
  {
   "cell_type": "code",
   "execution_count": null,
   "metadata": {},
   "outputs": [
    {
     "data": {
      "text/latex": [
       "$\\displaystyle \\frac{p^{2} W{\\left(q,p \\right)}}{2} + \\frac{i p \\frac{\\partial}{\\partial q} W{\\left(q,p \\right)}}{2} + \\frac{q^{2} W{\\left(q,p \\right)}}{2} - \\frac{i q \\frac{\\partial}{\\partial p} W{\\left(q,p \\right)}}{2} - \\frac{W{\\left(q,p \\right)}}{2} - \\frac{\\frac{\\partial^{2}}{\\partial p^{2}} W{\\left(q,p \\right)}}{8} - \\frac{\\frac{\\partial^{2}}{\\partial q^{2}} W{\\left(q,p \\right)}}{8}$"
      ],
      "text/plain": [
       "p**2*W(q, p)/2 + I*p*Derivative(W(q, p), q)/2 + q**2*W(q, p)/2 - I*q*Derivative(W(q, p), p)/2 - W(q, p)/2 - Derivative(W(q, p), (p, 2))/8 - Derivative(W(q, p), (q, 2))/8"
      ]
     },
     "execution_count": 9,
     "metadata": {},
     "output_type": "execute_result"
    }
   ],
   "source": [
    "W_star_adag_star_a = ms.star(W, adag_star_a)\n",
    "W_star_adag_star_a"
   ]
  },
  {
   "cell_type": "markdown",
   "metadata": {},
   "source": [
    "### **The Moyal equation**"
   ]
  },
  {
   "cell_type": "code",
   "execution_count": null,
   "metadata": {},
   "outputs": [
    {
     "data": {
      "text/latex": [
       "$\\displaystyle \\frac{\\partial}{\\partial t} W{\\left(q,p \\right)} = - p \\frac{\\partial}{\\partial q} W{\\left(q,p \\right)} + q \\frac{\\partial}{\\partial p} W{\\left(q,p \\right)}$"
      ],
      "text/plain": [
       "Eq(Derivative(W(q, p), t), -p*Derivative(W(q, p), q) + q*Derivative(W(q, p), p))"
      ]
     },
     "execution_count": 10,
     "metadata": {},
     "output_type": "execute_result"
    }
   ],
   "source": [
    "sm.Equality(sm.Derivative(W, t),\n",
    "            sm.expand(-I * (adag_star_a_star_W - W_star_adag_star_a)))"
   ]
  },
  {
   "cell_type": "markdown",
   "metadata": {},
   "source": [
    "and we are done!\n",
    "\n",
    "---\n",
    "\n",
    "### **References**\n",
    "\n",
    "    - T. Curtright, D. Fairlie, and C. Zachos, A Concise Treatise On Quantum Mechanics In Phase Space (World Scientific Publishing Company, 2013)\n",
    "    \n",
    "    - https://physics.stackexchange.com/questions/578522/why-does-the-star-product-satisfy-the-bopp-shift-relations-fx-p-star-gx-p\n"
   ]
  }
 ],
 "metadata": {
  "kernelspec": {
   "display_name": "pyvenv",
   "language": "python",
   "name": "python3"
  },
  "language_info": {
   "codemirror_mode": {
    "name": "ipython",
    "version": 3
   },
   "file_extension": ".py",
   "mimetype": "text/x-python",
   "name": "python",
   "nbconvert_exporter": "python",
   "pygments_lexer": "ipython3",
   "version": "3.12.3"
  }
 },
 "nbformat": 4,
 "nbformat_minor": 2
}

{
 "cells": [
  {
   "cell_type": "markdown",
   "metadata": {},
   "source": [
    "# **Tutorial: the simple harmonic oscillator**"
   ]
  },
  {
   "cell_type": "markdown",
   "metadata": {},
   "source": [
    "As an easy walkthrough, let us work through the Moyal equation for the (quantum) simple harmonic oscillator (SHO). As we are familiar with in the Hilbert space formalism, the SHO can be described by the following Liouville-von Neumann equation:\n",
    "$$\n",
    "\\frac{\\mathrm{d}\\rho}{\\mathrm{d}t} = -i\\left(\\hat{a}^\\dagger \\hat{a}\\rho-\\rho\\hat{a}^\\dagger \\hat{a}\\right)\\tag{1}\n",
    "$$\n",
    "where $\\hat{a}=\\left(\\hat{x}+i\\hat{p}\\right)/\\sqrt{2}$ is the annihilation operator. The Moyal equation can be obtained by applying the Wigner transformation to Eq. (1). We obtain\n",
    "$$\n",
    "{\\partial_t W} = -i\\left(\\hat{a}^\\dagger \\star \\hat{a}\\star W-W\\star\\hat{a}^\\dagger\\star \\hat{a}\\right)\\tag{2}\n",
    "$$\n",
    "where $W$ is the system's Wigner function. Here the Moyal star-product is defined as:\n",
    "$$\n",
    "A(x,p)\\star B(x,p) = A\\left(x+\\frac{i}{2}\\partial_{p'}, p-\\frac{i}{2}\\partial_{x'}\\right)B(x',p')\\Big|_{x'=x,p'=p} = B\\left(x-\\frac{i}{2}\\partial_{p'}, p+\\frac{i}{2}\\partial_{x'}\\right)A(x',p')\\Big|_{x'=x,p'=p} \\tag{3}\n",
    "$$\n",
    "It is essentially ordinary multiplication between two scalar functions, which behaves like matrix multiplication. The change $x\\rightarrow x\\pm i\\partial_x/2$ and likewise for $p is called the \"Bopp shift\".\n",
    "\n",
    "This should be enough explanation---more information is available in our references. Let us code. \n",
    "\n",
    "---\n",
    "\n",
    "For the interested readers wanting to try this for themselves, feel free to install the module via `pip`:\n",
    "\n",
    "```\n",
    "pip install git+https://github.com/hendry24/moyalstar\n",
    "```"
   ]
  },
  {
   "cell_type": "code",
   "execution_count": 1,
   "metadata": {},
   "outputs": [],
   "source": [
    "import moyalstar as ms\n",
    "import sympy as sm\n",
    "\n",
    "ms.MP_CONFIG['enable']=False\n",
    "\n",
    "a, ad = ms.annihilateOp(), ms.createOp()\n",
    "aa, aad = ms.alpha(), ms.alphaD()\n",
    "kappa_1, gamma_1, gamma_2 = sm.symbols(\"kappa_1, gamma_1, gamma_2\")\n",
    "q, p = ms.q(), ms.p()\n",
    "W = ms.W()"
   ]
  },
  {
   "cell_type": "code",
   "execution_count": 4,
   "metadata": {},
   "outputs": [
    {
     "ename": "ValueError",
     "evalue": "\\sqrt{q_{} + \\frac{i \\partial_{{p_{}}'}}{2}} {p_{}}'",
     "output_type": "error",
     "traceback": [
      "\u001b[0;31m---------------------------------------------------------------------------\u001b[0m",
      "\u001b[0;31mAttributeError\u001b[0m                            Traceback (most recent call last)",
      "File \u001b[0;32m~/Documents/github_repo/moyalstar/moyalstar/core/star_product.py:220\u001b[0m, in \u001b[0;36m_first_index_and_diff_order\u001b[0;34m(A)\u001b[0m\n\u001b[1;32m    217\u001b[0m     \u001b[38;5;28;01mif\u001b[39;00m A_\u001b[38;5;241m.\u001b[39mhas(scalars\u001b[38;5;241m.\u001b[39m_DerivativeSymbol):\n\u001b[1;32m    218\u001b[0m         \u001b[38;5;66;03m# We have dxx**n for n>1. For a Pow object, the second argument gives\u001b[39;00m\n\u001b[1;32m    219\u001b[0m         \u001b[38;5;66;03m# the exponent; in this case, the differentiation order.\u001b[39;00m\n\u001b[0;32m--> 220\u001b[0m         \u001b[38;5;28;01mreturn\u001b[39;00m idx, \u001b[43mA_\u001b[49m\u001b[38;5;241;43m.\u001b[39;49m\u001b[43margs\u001b[49m\u001b[43m[\u001b[49m\u001b[38;5;241;43m0\u001b[39;49m\u001b[43m]\u001b[49m\u001b[38;5;241;43m.\u001b[39;49m\u001b[43mdiff_var\u001b[49m\u001b[38;5;241m.\u001b[39mbase, A_\u001b[38;5;241m.\u001b[39margs[\u001b[38;5;241m1\u001b[39m]\n\u001b[1;32m    222\u001b[0m \u001b[38;5;28;01mreturn\u001b[39;00m \u001b[38;5;28;01mNone\u001b[39;00m \u001b[38;5;66;03m# This stops the recursion. See _replace_diff.\u001b[39;00m\n",
      "\u001b[0;31mAttributeError\u001b[0m: 'Add' object has no attribute 'diff_var'",
      "\nDuring handling of the above exception, another exception occurred:\n",
      "\u001b[0;31mValueError\u001b[0m                                Traceback (most recent call last)",
      "Cell \u001b[0;32mIn[4], line 1\u001b[0m\n\u001b[0;32m----> 1\u001b[0m \u001b[43mms\u001b[49m\u001b[38;5;241;43m.\u001b[39;49m\u001b[43mStar\u001b[49m\u001b[43m(\u001b[49m\u001b[43msm\u001b[49m\u001b[38;5;241;43m.\u001b[39;49m\u001b[43msqrt\u001b[49m\u001b[43m(\u001b[49m\u001b[43mq\u001b[49m\u001b[43m)\u001b[49m\u001b[43m,\u001b[49m\u001b[43m \u001b[49m\u001b[43mp\u001b[49m\u001b[43m)\u001b[49m\n",
      "File \u001b[0;32m~/Documents/github_repo/moyalstar/moyalstar/core/star_product.py:16\u001b[0m, in \u001b[0;36mStar.__new__\u001b[0;34m(cls, *args)\u001b[0m\n\u001b[1;32m     14\u001b[0m out \u001b[38;5;241m=\u001b[39m sm\u001b[38;5;241m.\u001b[39msympify(args[\u001b[38;5;241m0\u001b[39m])\n\u001b[1;32m     15\u001b[0m \u001b[38;5;28;01mfor\u001b[39;00m arg \u001b[38;5;129;01min\u001b[39;00m args[\u001b[38;5;241m1\u001b[39m:]:\n\u001b[0;32m---> 16\u001b[0m     out \u001b[38;5;241m=\u001b[39m \u001b[43m_star_base\u001b[49m\u001b[43m(\u001b[49m\u001b[43mout\u001b[49m\u001b[43m,\u001b[49m\u001b[43m \u001b[49m\u001b[43msm\u001b[49m\u001b[38;5;241;43m.\u001b[39;49m\u001b[43msympify\u001b[49m\u001b[43m(\u001b[49m\u001b[43marg\u001b[49m\u001b[43m)\u001b[49m\u001b[43m)\u001b[49m\n\u001b[1;32m     17\u001b[0m \u001b[38;5;28;01mreturn\u001b[39;00m out\n",
      "File \u001b[0;32m~/Documents/github_repo/moyalstar/moyalstar/core/star_product.py:92\u001b[0m, in \u001b[0;36m_star_base\u001b[0;34m(A, B)\u001b[0m\n\u001b[1;32m     89\u001b[0m \u001b[38;5;28;01melse\u001b[39;00m:\n\u001b[1;32m     90\u001b[0m     X_args \u001b[38;5;241m=\u001b[39m [X]\n\u001b[0;32m---> 92\u001b[0m out \u001b[38;5;241m=\u001b[39m sm\u001b[38;5;241m.\u001b[39mAdd(\u001b[38;5;241m*\u001b[39m\u001b[43m_mp_helper\u001b[49m\u001b[43m(\u001b[49m\u001b[43mX_args\u001b[49m\u001b[43m,\u001b[49m\u001b[43m \u001b[49m\u001b[43m_replace_diff\u001b[49m\u001b[43m)\u001b[49m)\n\u001b[1;32m     94\u001b[0m \u001b[38;5;28;01mreturn\u001b[39;00m scalars\u001b[38;5;241m.\u001b[39m_DePrimed(out)\u001b[38;5;241m.\u001b[39mdoit()\u001b[38;5;241m.\u001b[39mexpand()\n",
      "File \u001b[0;32m~/Documents/github_repo/moyalstar/moyalstar/utils/multiprocessing.py:67\u001b[0m, in \u001b[0;36m_mp_helper\u001b[0;34m(A_args, foo)\u001b[0m\n\u001b[1;32m     65\u001b[0m     \u001b[38;5;28;01mreturn\u001b[39;00m [dill\u001b[38;5;241m.\u001b[39mloads(X_bytes) \u001b[38;5;28;01mfor\u001b[39;00m X_bytes \u001b[38;5;129;01min\u001b[39;00m res]\n\u001b[1;32m     66\u001b[0m \u001b[38;5;28;01melse\u001b[39;00m:\n\u001b[0;32m---> 67\u001b[0m     \u001b[38;5;28;01mreturn\u001b[39;00m [\u001b[43mfoo\u001b[49m\u001b[43m(\u001b[49m\u001b[43m_A_\u001b[49m\u001b[43m)\u001b[49m \u001b[38;5;28;01mfor\u001b[39;00m _A_ \u001b[38;5;129;01min\u001b[39;00m A_args]\n",
      "File \u001b[0;32m~/Documents/github_repo/moyalstar/moyalstar/core/star_product.py:234\u001b[0m, in \u001b[0;36m_replace_diff\u001b[0;34m(A)\u001b[0m\n\u001b[1;32m    227\u001b[0m \u001b[38;5;28;01mdef\u001b[39;00m \u001b[38;5;21m_replace_diff\u001b[39m(A : sm\u001b[38;5;241m.\u001b[39mExpr) \\\n\u001b[1;32m    228\u001b[0m     \u001b[38;5;241m-\u001b[39m\u001b[38;5;241m>\u001b[39m sm\u001b[38;5;241m.\u001b[39mExpr:\n\u001b[1;32m    229\u001b[0m \u001b[38;5;250m    \u001b[39m\u001b[38;5;124;03m\"\"\"\u001b[39;00m\n\u001b[1;32m    230\u001b[0m \u001b[38;5;124;03m    Recursively replace the differential operator symbols (dqq and dpp),\u001b[39;00m\n\u001b[1;32m    231\u001b[0m \u001b[38;5;124;03m    with the appropriate `sympy.Derivative` objects.\u001b[39;00m\n\u001b[1;32m    232\u001b[0m \u001b[38;5;124;03m    \"\"\"\u001b[39;00m\n\u001b[0;32m--> 234\u001b[0m     fido \u001b[38;5;241m=\u001b[39m \u001b[43m_first_index_and_diff_order\u001b[49m\u001b[43m(\u001b[49m\u001b[43mA\u001b[49m\u001b[43m)\u001b[49m\n\u001b[1;32m    236\u001b[0m     \u001b[38;5;28;01mif\u001b[39;00m fido: \u001b[38;5;66;03m# no more recursion if fido is None\u001b[39;00m\n\u001b[1;32m    237\u001b[0m         cut_idx, diff_var, diff_order \u001b[38;5;241m=\u001b[39m fido\n",
      "File \u001b[0;32m~/Documents/github_repo/moyalstar/moyalstar/core/star_product.py:225\u001b[0m, in \u001b[0;36m_first_index_and_diff_order\u001b[0;34m(A)\u001b[0m\n\u001b[1;32m    222\u001b[0m     \u001b[38;5;28;01mreturn\u001b[39;00m \u001b[38;5;28;01mNone\u001b[39;00m \u001b[38;5;66;03m# This stops the recursion. See _replace_diff.\u001b[39;00m\n\u001b[1;32m    224\u001b[0m \u001b[38;5;28;01mexcept\u001b[39;00m:\n\u001b[0;32m--> 225\u001b[0m     \u001b[38;5;28;01mraise\u001b[39;00m \u001b[38;5;167;01mValueError\u001b[39;00m(sm\u001b[38;5;241m.\u001b[39mlatex(A))\n",
      "\u001b[0;31mValueError\u001b[0m: \\sqrt{q_{} + \\frac{i \\partial_{{p_{}}'}}{2}} {p_{}}'"
     ]
    }
   ],
   "source": [
    "ms.Star(sm.sqrt(q), p)"
   ]
  },
  {
   "cell_type": "code",
   "execution_count": 93,
   "metadata": {},
   "outputs": [
    {
     "data": {
      "text/latex": [
       "$\\displaystyle \\frac{2^{q_{}} \\gamma_{2}^{0.3} q_{}^{2} W e^{\\gamma_{1}} e^{q_{}}}{2 \\kappa_{1}}$"
      ],
      "text/plain": [
       "2**q_{}*gamma_2**0.3*q_{}**2*WignerFunction(q_{}, p_{})*exp(gamma_1)*exp(q_{})/(2*kappa_1)"
      ]
     },
     "execution_count": 93,
     "metadata": {},
     "output_type": "execute_result"
    }
   ],
   "source": [
    "X = sm.Rational(1,2)*gamma_2**0.3*sm.exp(gamma_1)*q**2*sm.exp(q)/kappa_1*W*2**q\n",
    "# X = sm.exp(gamma_1)\n",
    "X"
   ]
  },
  {
   "cell_type": "code",
   "execution_count": 99,
   "metadata": {},
   "outputs": [],
   "source": [
    "def cannot_Bopp_pow(X):\n",
    "    pow_in_X = X.find(sm.Pow)\n",
    "    pow_in_X_with_qp = [x for x in pow_in_X if x.has(q, p)]\n",
    "    for x in pow_in_X_with_qp:\n",
    "        exp = x.args[1]\n",
    "        if not(isinstance(exp, sm.Integer) and exp >= 0):\n",
    "            return True\n",
    "    return False"
   ]
  },
  {
   "cell_type": "code",
   "execution_count": 34,
   "metadata": {},
   "outputs": [
    {
     "data": {
      "text/plain": [
       "(2, q_{}, 1)"
      ]
     },
     "execution_count": 34,
     "metadata": {},
     "output_type": "execute_result"
    }
   ],
   "source": [
    "from moyalstar.core.scalars import _Primed\n",
    "from moyalstar.core.star_product import _first_index_and_diff_order\n",
    "_first_index_and_diff_order((ms.Bopp(p,left=True) * _Primed(sm.sqrt(q))).expand().args[1])"
   ]
  },
  {
   "cell_type": "code",
   "execution_count": 6,
   "metadata": {},
   "outputs": [
    {
     "data": {
      "text/latex": [
       "$\\displaystyle \\frac{d}{d t_{}} \\rho_{} = - i \\left[\\hat{a}^{\\dagger}_{} \\hat{a}_{},\\rho_{}\\right] + {{\\gamma_{1}}\\mathcal{D}\\left({\\hat{a}_{}}\\right)\\left[\\rho\\right]} + {{\\gamma_{2}}\\mathcal{D}\\left({\\hat{a}_{}^{2}}\\right)\\left[\\rho\\right]} + {{\\kappa_{1}}\\mathcal{D}\\left({\\hat{a}^{\\dagger}_{}}\\right)\\left[\\rho\\right]}$"
      ],
      "text/plain": [
       "\\frac{d}{d t_{}} \\rho_{} = - i \\left[\\hat{a}^{\\dagger}_{} \\hat{a}_{},\\rho_{}\\right] + {{\\gamma_{1}}\\mathcal{D}\\left({\\hat{a}_{}}\\right)\\left[\\rho\\right]} + {{\\gamma_{2}}\\mathcal{D}\\left({\\hat{a}_{}^{2}}\\right)\\left[\\rho\\right]} + {{\\kappa_{1}}\\mathcal{D}\\left({\\hat{a}^{\\dagger}_{}}\\right)\\left[\\rho\\right]}"
      ]
     },
     "execution_count": 2,
     "metadata": {},
     "output_type": "execute_result"
    }
   ],
   "source": [
    "lme = ms.LindbladMasterEquation(H = ad*a, \n",
    "                                dissipators=[[kappa_1, ad], [gamma_1, a], [gamma_2, a**2]])\n",
    "# lme = ms.LindbladMasterEquation(H = ad*a)\n",
    "lme"
   ]
  },
  {
   "cell_type": "code",
   "execution_count": 7,
   "metadata": {},
   "outputs": [
    {
     "data": {
      "text/latex": [
       "$\\displaystyle \\frac{\\partial}{\\partial t_{}} W = \\frac{\\gamma_{2} p_{}}{8} \\frac{\\partial^{3}}{\\partial p_{}^{3}} W + \\frac{\\gamma_{2} p_{}}{8} \\frac{\\partial^{3}}{\\partial p_{}\\partial q_{}^{2}} W + \\frac{\\gamma_{2} q_{}}{8} \\frac{\\partial^{3}}{\\partial q_{}^{3}} W + \\frac{\\gamma_{2} q_{}}{8} \\frac{\\partial^{3}}{\\partial q_{}\\partial p_{}^{2}} W + \\left(\\frac{\\gamma_{1}}{4} + \\frac{\\gamma_{2} p_{}^{2}}{2} + \\frac{\\gamma_{2} q_{}^{2}}{2} + \\frac{\\kappa_{1}}{4}\\right) \\frac{\\partial^{2}}{\\partial p_{}^{2}} W + \\left(\\frac{\\gamma_{1}}{4} + \\frac{\\gamma_{2} p_{}^{2}}{2} + \\frac{\\gamma_{2} q_{}^{2}}{2} + \\frac{\\kappa_{1}}{4}\\right) \\frac{\\partial^{2}}{\\partial q_{}^{2}} W + \\left(\\gamma_{1} + 2 \\gamma_{2} p_{}^{2} + 2 \\gamma_{2} q_{}^{2} - \\kappa_{1}\\right) W + \\left(\\frac{\\gamma_{1} p_{}}{2} + \\frac{\\gamma_{2} p_{}^{3}}{2} + \\frac{\\gamma_{2} p_{} q_{}^{2}}{2} + \\gamma_{2} p_{} - \\frac{\\kappa_{1} p_{}}{2} + q_{}\\right) \\frac{\\partial}{\\partial p_{}} W + \\left(\\frac{\\gamma_{1} q_{}}{2} + \\frac{\\gamma_{2} p_{}^{2} q_{}}{2} + \\frac{\\gamma_{2} q_{}^{3}}{2} + \\gamma_{2} q_{} - \\frac{\\kappa_{1} q_{}}{2} - p_{}\\right) \\frac{\\partial}{\\partial q_{}} W$"
      ],
      "text/plain": [
       "Eq(Derivative(WignerFunction(p_{}, q_{}, t_{}), t_{}), (gamma_2*p_{}/8)*Derivative(WignerFunction(p_{}, q_{}, t_{}), (p_{}, 3)) + (gamma_2*p_{}/8)*Derivative(WignerFunction(p_{}, q_{}, t_{}), (q_{}, 2), p_{}) + (gamma_2*q_{}/8)*Derivative(WignerFunction(p_{}, q_{}, t_{}), (q_{}, 3)) + (gamma_2*q_{}/8)*Derivative(WignerFunction(p_{}, q_{}, t_{}), (p_{}, 2), q_{}) + (gamma_1/4 + gamma_2*p_{}**2/2 + gamma_2*q_{}**2/2 + kappa_1/4)*Derivative(WignerFunction(p_{}, q_{}, t_{}), (p_{}, 2)) + (gamma_1/4 + gamma_2*p_{}**2/2 + gamma_2*q_{}**2/2 + kappa_1/4)*Derivative(WignerFunction(p_{}, q_{}, t_{}), (q_{}, 2)) + (gamma_1 + 2*gamma_2*p_{}**2 + 2*gamma_2*q_{}**2 - kappa_1)*WignerFunction(p_{}, q_{}, t_{}) + (gamma_1*p_{}/2 + gamma_2*p_{}**3/2 + gamma_2*p_{}*q_{}**2/2 + gamma_2*p_{} - kappa_1*p_{}/2 + q_{})*Derivative(WignerFunction(p_{}, q_{}, t_{}), p_{}) + (gamma_1*q_{}/2 + gamma_2*p_{}**2*q_{}/2 + gamma_2*q_{}**3/2 + gamma_2*q_{} - kappa_1*q_{}/2 - p_{})*Derivative(WignerFunction(p_{}, q_{}, t_{}), q_{}))"
      ]
     },
     "execution_count": 3,
     "metadata": {},
     "output_type": "execute_result"
    }
   ],
   "source": [
    "lme.wigner_transform"
   ]
  },
  {
   "cell_type": "markdown",
   "metadata": {},
   "source": [
    "### **Setting symbols**\n",
    "\n",
    "#### Variables beginning with double letters are deliberately made noncommutative."
   ]
  },
  {
   "cell_type": "code",
   "execution_count": null,
   "metadata": {},
   "outputs": [
    {
     "data": {
      "text/latex": [
       "$\\displaystyle \\frac{\\sqrt{2} \\left(i p + q\\right)}{2}$"
      ],
      "text/plain": [
       "sqrt(2)*(I*p + q)/2"
      ]
     },
     "execution_count": 4,
     "metadata": {},
     "output_type": "execute_result"
    }
   ],
   "source": [
    "I, q, p, W = ms.get_objects()\n",
    "\n",
    "sqrt2 =sm.sqrt(2)\n",
    "t = sm.symbols(\"t\", real=True)\n",
    "\n",
    "a = (q + I*p)/sqrt2\n",
    "adag = sm.conjugate(a)\n",
    "a"
   ]
  },
  {
   "cell_type": "markdown",
   "metadata": {},
   "source": [
    "### **Trying out the Bopp shift**"
   ]
  },
  {
   "cell_type": "code",
   "execution_count": null,
   "metadata": {},
   "outputs": [
    {
     "ename": "AttributeError",
     "evalue": "module 'moyalstar' has no attribute 'bopp'",
     "output_type": "error",
     "traceback": [
      "\u001b[0;31m---------------------------------------------------------------------------\u001b[0m",
      "\u001b[0;31mAttributeError\u001b[0m                            Traceback (most recent call last)",
      "Cell \u001b[0;32mIn[5], line 1\u001b[0m\n\u001b[0;32m----> 1\u001b[0m \u001b[43mms\u001b[49m\u001b[38;5;241;43m.\u001b[39;49m\u001b[43mbopp\u001b[49m(q)\n",
      "\u001b[0;31mAttributeError\u001b[0m: module 'moyalstar' has no attribute 'bopp'"
     ]
    }
   ],
   "source": [
    "ms.bopp(q)"
   ]
  },
  {
   "cell_type": "code",
   "execution_count": null,
   "metadata": {},
   "outputs": [
    {
     "data": {
      "text/latex": [
       "$\\displaystyle q - \\frac{i \\partial_{p'}}{2}$"
      ],
      "text/plain": [
       "q - I*\\partial_{p'}/2"
      ]
     },
     "execution_count": 6,
     "metadata": {},
     "output_type": "execute_result"
    }
   ],
   "source": [
    "ms.bopp(q, left=True)"
   ]
  },
  {
   "cell_type": "code",
   "execution_count": null,
   "metadata": {},
   "outputs": [
    {
     "data": {
      "text/latex": [
       "$\\displaystyle \\frac{\\sqrt{2} i p}{2} + \\frac{\\sqrt{2} q}{2} + \\frac{\\sqrt{2} i \\partial_{p'}}{4} + \\frac{\\sqrt{2} \\partial_{q'}}{4}$"
      ],
      "text/plain": [
       "sqrt(2)*I*p/2 + sqrt(2)*q/2 + sqrt(2)*I*\\partial_{p'}/4 + sqrt(2)*\\partial_{q'}/4"
      ]
     },
     "execution_count": 7,
     "metadata": {},
     "output_type": "execute_result"
    }
   ],
   "source": [
    "ms.bopp(a)"
   ]
  },
  {
   "cell_type": "markdown",
   "metadata": {},
   "source": [
    "### **Calculating the Moyal star-product**"
   ]
  },
  {
   "cell_type": "code",
   "execution_count": null,
   "metadata": {},
   "outputs": [
    {
     "data": {
      "text/latex": [
       "$\\displaystyle \\frac{p^{2} W{\\left(q,p \\right)}}{2} - \\frac{i p \\frac{\\partial}{\\partial q} W{\\left(q,p \\right)}}{2} + \\frac{q^{2} W{\\left(q,p \\right)}}{2} + \\frac{i q \\frac{\\partial}{\\partial p} W{\\left(q,p \\right)}}{2} - \\frac{W{\\left(q,p \\right)}}{2} - \\frac{\\frac{\\partial^{2}}{\\partial p^{2}} W{\\left(q,p \\right)}}{8} - \\frac{\\frac{\\partial^{2}}{\\partial q^{2}} W{\\left(q,p \\right)}}{8}$"
      ],
      "text/plain": [
       "p**2*W(q, p)/2 - I*p*Derivative(W(q, p), q)/2 + q**2*W(q, p)/2 + I*q*Derivative(W(q, p), p)/2 - W(q, p)/2 - Derivative(W(q, p), (p, 2))/8 - Derivative(W(q, p), (q, 2))/8"
      ]
     },
     "execution_count": 8,
     "metadata": {},
     "output_type": "execute_result"
    }
   ],
   "source": [
    "adag_star_a = ms.star(adag, a)\n",
    "adag_star_a_star_W = ms.star(adag_star_a, W)\n",
    "adag_star_a_star_W"
   ]
  },
  {
   "cell_type": "code",
   "execution_count": null,
   "metadata": {},
   "outputs": [
    {
     "data": {
      "text/latex": [
       "$\\displaystyle \\frac{p^{2} W{\\left(q,p \\right)}}{2} + \\frac{i p \\frac{\\partial}{\\partial q} W{\\left(q,p \\right)}}{2} + \\frac{q^{2} W{\\left(q,p \\right)}}{2} - \\frac{i q \\frac{\\partial}{\\partial p} W{\\left(q,p \\right)}}{2} - \\frac{W{\\left(q,p \\right)}}{2} - \\frac{\\frac{\\partial^{2}}{\\partial p^{2}} W{\\left(q,p \\right)}}{8} - \\frac{\\frac{\\partial^{2}}{\\partial q^{2}} W{\\left(q,p \\right)}}{8}$"
      ],
      "text/plain": [
       "p**2*W(q, p)/2 + I*p*Derivative(W(q, p), q)/2 + q**2*W(q, p)/2 - I*q*Derivative(W(q, p), p)/2 - W(q, p)/2 - Derivative(W(q, p), (p, 2))/8 - Derivative(W(q, p), (q, 2))/8"
      ]
     },
     "execution_count": 9,
     "metadata": {},
     "output_type": "execute_result"
    }
   ],
   "source": [
    "W_star_adag_star_a = ms.star(W, adag_star_a)\n",
    "W_star_adag_star_a"
   ]
  },
  {
   "cell_type": "markdown",
   "metadata": {},
   "source": [
    "### **The Moyal equation**"
   ]
  },
  {
   "cell_type": "code",
   "execution_count": null,
   "metadata": {},
   "outputs": [
    {
     "data": {
      "text/latex": [
       "$\\displaystyle \\frac{\\partial}{\\partial t} W{\\left(q,p \\right)} = - p \\frac{\\partial}{\\partial q} W{\\left(q,p \\right)} + q \\frac{\\partial}{\\partial p} W{\\left(q,p \\right)}$"
      ],
      "text/plain": [
       "Eq(Derivative(W(q, p), t), -p*Derivative(W(q, p), q) + q*Derivative(W(q, p), p))"
      ]
     },
     "execution_count": 10,
     "metadata": {},
     "output_type": "execute_result"
    }
   ],
   "source": [
    "sm.Equality(sm.Derivative(W, t),\n",
    "            sm.expand(-I * (adag_star_a_star_W - W_star_adag_star_a)))"
   ]
  },
  {
   "cell_type": "markdown",
   "metadata": {},
   "source": [
    "and we are done!\n",
    "\n",
    "---\n",
    "\n",
    "### **References**\n",
    "\n",
    "    - T. Curtright, D. Fairlie, and C. Zachos, A Concise Treatise On Quantum Mechanics In Phase Space (World Scientific Publishing Company, 2013)\n",
    "    \n",
    "    - https://physics.stackexchange.com/questions/578522/why-does-the-star-product-satisfy-the-bopp-shift-relations-fx-p-star-gx-p\n"
   ]
  }
 ],
 "metadata": {
  "kernelspec": {
   "display_name": "pyvenv",
   "language": "python",
   "name": "python3"
  },
  "language_info": {
   "codemirror_mode": {
    "name": "ipython",
    "version": 3
   },
   "file_extension": ".py",
   "mimetype": "text/x-python",
   "name": "python",
   "nbconvert_exporter": "python",
   "pygments_lexer": "ipython3",
   "version": "3.12.3"
  }
 },
 "nbformat": 4,
 "nbformat_minor": 2
}
